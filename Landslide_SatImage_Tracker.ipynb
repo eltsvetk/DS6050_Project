{
 "cells": [
  {
   "cell_type": "code",
   "execution_count": 1,
   "id": "4445e5c5-fee8-4041-8fa1-5e3a66b14143",
   "metadata": {
    "tags": []
   },
   "outputs": [],
   "source": [
    "import pandas as pd\n",
    "import numpy as np\n",
    "import seaborn as sns\n",
    "import matplotlib\n",
    "import matplotlib.pyplot as plt, time"
   ]
  },
  {
   "cell_type": "code",
   "execution_count": 2,
   "id": "c16ddb77-b936-482a-8d8c-83b9e17eae0a",
   "metadata": {
    "tags": []
   },
   "outputs": [],
   "source": [
    "pd.set_option('display.max_columns', None) "
   ]
  },
  {
   "cell_type": "code",
   "execution_count": null,
   "id": "3535ef5a-2e44-4469-96e2-c3330bf3ee53",
   "metadata": {},
   "outputs": [],
   "source": []
  },
  {
   "cell_type": "code",
   "execution_count": 3,
   "id": "8287e2cd-2892-4875-b00d-cbe967aebad4",
   "metadata": {},
   "outputs": [],
   "source": [
    "## Load\n",
    "nasa_satimage_log = pd.read_csv('NASA_SatImage_Log.csv')"
   ]
  },
  {
   "cell_type": "raw",
   "id": "443a7edc-d488-41e3-a8da-89b016f4d7e3",
   "metadata": {
    "tags": []
   },
   "source": [
    "nasa_satimage_log = nasa_satimage_log.astype({col: 'str' for col in nasa_satimage_log.select_dtypes(include='object').columns})"
   ]
  },
  {
   "cell_type": "code",
   "execution_count": 4,
   "id": "7059868c-c5ab-4a03-9a75-42c200129058",
   "metadata": {
    "tags": []
   },
   "outputs": [
    {
     "name": "stdout",
     "output_type": "stream",
     "text": [
      "{'sat_capture': dtype('O'), 'OBJECTID': dtype('int64'), 'latitude': dtype('float64'), 'longitude': dtype('float64'), 'event_id': dtype('int64'), 'event_date': dtype('O'), 'event_title': dtype('O'), 'event_description': dtype('O'), 'landslide_size': dtype('O'), 'landslide_trigger': dtype('O'), 'landslide_category': dtype('O'), 'location_accuracy': dtype('O'), 'landslide_setting': dtype('O'), 'fatality_count': dtype('float64'), 'location_description': dtype('O'), 'country_name': dtype('O'), 'source_link': dtype('O'), 'Shape': dtype('O'), 'storm_name': dtype('O'), 'photo_link': dtype('O'), 'comments': dtype('O'), 'gazetteer_closest_point': dtype('O'), 'gazetteer_distance': dtype('float64')}\n"
     ]
    }
   ],
   "source": [
    "column_types = nasa_satimage_log.dtypes.to_dict()\n",
    "print(column_types)"
   ]
  },
  {
   "cell_type": "code",
   "execution_count": 5,
   "id": "a45a6853-2d10-46f9-a9d4-c6fd55510158",
   "metadata": {},
   "outputs": [
    {
     "name": "stdout",
     "output_type": "stream",
     "text": [
      "(39633, 23)\n"
     ]
    },
    {
     "data": {
      "text/html": [
       "<div>\n",
       "<style scoped>\n",
       "    .dataframe tbody tr th:only-of-type {\n",
       "        vertical-align: middle;\n",
       "    }\n",
       "\n",
       "    .dataframe tbody tr th {\n",
       "        vertical-align: top;\n",
       "    }\n",
       "\n",
       "    .dataframe thead th {\n",
       "        text-align: right;\n",
       "    }\n",
       "</style>\n",
       "<table border=\"1\" class=\"dataframe\">\n",
       "  <thead>\n",
       "    <tr style=\"text-align: right;\">\n",
       "      <th></th>\n",
       "      <th>sat_capture</th>\n",
       "      <th>OBJECTID</th>\n",
       "      <th>latitude</th>\n",
       "      <th>longitude</th>\n",
       "      <th>event_id</th>\n",
       "      <th>event_date</th>\n",
       "      <th>event_title</th>\n",
       "      <th>event_description</th>\n",
       "      <th>landslide_size</th>\n",
       "      <th>landslide_trigger</th>\n",
       "      <th>landslide_category</th>\n",
       "      <th>location_accuracy</th>\n",
       "      <th>landslide_setting</th>\n",
       "      <th>fatality_count</th>\n",
       "      <th>location_description</th>\n",
       "      <th>country_name</th>\n",
       "      <th>source_link</th>\n",
       "      <th>Shape</th>\n",
       "      <th>storm_name</th>\n",
       "      <th>photo_link</th>\n",
       "      <th>comments</th>\n",
       "      <th>gazetteer_closest_point</th>\n",
       "      <th>gazetteer_distance</th>\n",
       "    </tr>\n",
       "  </thead>\n",
       "  <tbody>\n",
       "    <tr>\n",
       "      <th>0</th>\n",
       "      <td>passed</td>\n",
       "      <td>18285691</td>\n",
       "      <td>32.5625</td>\n",
       "      <td>107.45</td>\n",
       "      <td>684</td>\n",
       "      <td>2008-08-01 00:00:00</td>\n",
       "      <td>Sigou Village, Loufan County, Shanxi Province</td>\n",
       "      <td>occurred early in morning, 11 villagers buried...</td>\n",
       "      <td>large</td>\n",
       "      <td>rain</td>\n",
       "      <td>landslide</td>\n",
       "      <td>unknown</td>\n",
       "      <td>mine</td>\n",
       "      <td>11.0</td>\n",
       "      <td>Sigou Village, Loufan County, Shanxi Province</td>\n",
       "      <td>China</td>\n",
       "      <td>https://blogs.agu.org/landslideblog/2008/10/14...</td>\n",
       "      <td>(107.45000000000005, 32.56250000000006)</td>\n",
       "      <td>NaN</td>\n",
       "      <td>NaN</td>\n",
       "      <td>NaN</td>\n",
       "      <td>Micang Shan</td>\n",
       "      <td>19.18</td>\n",
       "    </tr>\n",
       "  </tbody>\n",
       "</table>\n",
       "</div>"
      ],
      "text/plain": [
       "  sat_capture  OBJECTID  latitude  longitude  event_id           event_date  \\\n",
       "0      passed  18285691   32.5625     107.45       684  2008-08-01 00:00:00   \n",
       "\n",
       "                                     event_title  \\\n",
       "0  Sigou Village, Loufan County, Shanxi Province   \n",
       "\n",
       "                                   event_description landslide_size  \\\n",
       "0  occurred early in morning, 11 villagers buried...          large   \n",
       "\n",
       "  landslide_trigger landslide_category location_accuracy landslide_setting  \\\n",
       "0              rain          landslide           unknown              mine   \n",
       "\n",
       "   fatality_count                           location_description country_name  \\\n",
       "0            11.0  Sigou Village, Loufan County, Shanxi Province        China   \n",
       "\n",
       "                                         source_link  \\\n",
       "0  https://blogs.agu.org/landslideblog/2008/10/14...   \n",
       "\n",
       "                                     Shape storm_name photo_link comments  \\\n",
       "0  (107.45000000000005, 32.56250000000006)        NaN        NaN      NaN   \n",
       "\n",
       "  gazetteer_closest_point  gazetteer_distance  \n",
       "0             Micang Shan               19.18  "
      ]
     },
     "execution_count": 5,
     "metadata": {},
     "output_type": "execute_result"
    }
   ],
   "source": [
    "print(nasa_satimage_log.shape)\n",
    "nasa_satimage_log.head(1)"
   ]
  },
  {
   "cell_type": "markdown",
   "id": "b4680723-db21-461c-aec4-75965b24d627",
   "metadata": {
    "tags": []
   },
   "source": [
    "<hr style=\"border:6px solid darkred\">"
   ]
  },
  {
   "cell_type": "markdown",
   "id": "e36d9ebf-abcc-4ccc-8542-2195d9fa9759",
   "metadata": {},
   "source": [
    "**<span style=\"color:Red; font-size:20px\">\n",
    "One Time Data Update\n",
    "</span>**\n",
    "- Adding column to track images captured, passed or open (e.g., not reviewed yet)."
   ]
  },
  {
   "cell_type": "raw",
   "id": "3cf36469-3bba-403d-b72a-738d520bf146",
   "metadata": {
    "tags": []
   },
   "source": [
    "nasa_satimage_log['sat_capture'] = 'open'"
   ]
  },
  {
   "cell_type": "raw",
   "id": "3c0a9e16-0d74-4fde-bb4e-50469a8eaf7d",
   "metadata": {
    "tags": []
   },
   "source": [
    "col_move = nasa_satimage_log.pop('sat_capture')\n",
    "nasa_satimage_log.insert(0, 'sat_capture', col_move)"
   ]
  },
  {
   "cell_type": "markdown",
   "id": "801b3e2e-56c9-4e12-b724-b00b2bd9ffb4",
   "metadata": {},
   "source": [
    "<hr style=\"border:6px solid darkred\">"
   ]
  },
  {
   "cell_type": "markdown",
   "id": "9c799033-7ad0-4384-8752-49bb79ce9ee3",
   "metadata": {},
   "source": [
    "**<span style=\"color:#10cb9d; font-size:27px\">\n",
    "Update Status in NASA log.\n",
    "</span>**"
   ]
  },
  {
   "cell_type": "code",
   "execution_count": 6,
   "id": "3f3add53-14a8-490c-a4b7-21005ebf35bc",
   "metadata": {},
   "outputs": [],
   "source": [
    "## Helper function to update rows: enter list of id numbers and status (captured, passed, open)\n",
    "def stat_update(df,id_number_list, status):\n",
    "    df.loc[nasa_satimage_log['event_id'].isin(id_number_list), 'sat_capture'] = status"
   ]
  },
  {
   "cell_type": "code",
   "execution_count": 31,
   "id": "7db6b89c-2c66-4570-afd4-cbc640e8a83b",
   "metadata": {},
   "outputs": [],
   "source": [
    "# List update\n",
    "nasa_satupdate_list =  [21047]\n",
    "status_string = 'passed'"
   ]
  },
  {
   "cell_type": "code",
   "execution_count": 32,
   "id": "1ff313a0-dc8b-47fc-a53a-54b95ef474d6",
   "metadata": {},
   "outputs": [],
   "source": [
    "# Execute Update\n",
    "stat_update(nasa_satimage_log,nasa_satupdate_list,status_string)"
   ]
  },
  {
   "cell_type": "code",
   "execution_count": 33,
   "id": "32c0c745-a776-4dee-b4e1-e4b81b1a1f17",
   "metadata": {
    "tags": []
   },
   "outputs": [],
   "source": [
    "# Save DataFrame to a CSV file, overwriting the existing file\n",
    "nasa_satimage_log.to_csv(\"NASA_SatImage_Log.csv\", index=False)"
   ]
  },
  {
   "cell_type": "markdown",
   "id": "0143b7c3-a2d0-4f2a-aafa-c2d934609db6",
   "metadata": {},
   "source": [
    "<hr style=\"border:6px solid darkred\">"
   ]
  },
  {
   "cell_type": "markdown",
   "id": "2bf5d35c-6930-4d27-9c61-ec17e53fc357",
   "metadata": {},
   "source": [
    "**<span style=\"color:#10cb9d; font-size:27px\">\n",
    "Update Event ID if 0\n",
    "</span>**"
   ]
  },
  {
   "cell_type": "code",
   "execution_count": 75,
   "id": "8d9d7e19-8729-4321-af38-6758ce2686af",
   "metadata": {
    "tags": []
   },
   "outputs": [],
   "source": [
    "## Helper to set new Event Id\n",
    "def event_id_update(df, event_title, id_num):\n",
    "    df.loc[nasa_satimage_log['event_title'] == event_title, 'event_id'] = id_num"
   ]
  },
  {
   "cell_type": "code",
   "execution_count": 76,
   "id": "4cb6a446-00a2-41a1-a82a-74bae31d8047",
   "metadata": {
    "tags": []
   },
   "outputs": [],
   "source": [
    "# List update\n",
    "event_title = 'Heavy Rains Set Off Deadly Landslides in Venezuela'\n",
    "id_num = 2024003"
   ]
  },
  {
   "cell_type": "code",
   "execution_count": 77,
   "id": "f8c09286-6477-47a7-b9f5-b8a2c8b1d395",
   "metadata": {
    "tags": []
   },
   "outputs": [],
   "source": [
    "# Execute Update\n",
    "event_id_update(nasa_satimage_log, event_title, id_num)"
   ]
  },
  {
   "cell_type": "code",
   "execution_count": 78,
   "id": "b7914ca0-1dfd-4451-b7d3-4d4cb7b7f946",
   "metadata": {
    "tags": []
   },
   "outputs": [],
   "source": [
    "# Save DataFrame to a CSV file, overwriting the existing file\n",
    "nasa_satimage_log.to_csv(\"NASA_SatImage_Log.csv\", index=False)"
   ]
  },
  {
   "cell_type": "markdown",
   "id": "cc5b9eff-7e51-4b0d-9bb3-a86b5a060250",
   "metadata": {},
   "source": [
    "<hr style=\"border:6px solid darkred\">"
   ]
  },
  {
   "cell_type": "markdown",
   "id": "cf2f8649-ea90-40d6-93c0-300ae1b1b979",
   "metadata": {
    "tags": []
   },
   "source": [
    "**<span style=\"color:#10cb9d; font-size:27px\">\n",
    "Review\n",
    "</span>**"
   ]
  },
  {
   "cell_type": "code",
   "execution_count": 13,
   "id": "c00bc016-679a-462e-99f0-3a83589bc254",
   "metadata": {
    "tags": []
   },
   "outputs": [
    {
     "data": {
      "text/plain": [
       "array(['large', 'small', 'medium', 'very_large', 'unknown',\n",
       "       'catastrophic', nan, 'Unknown'], dtype=object)"
      ]
     },
     "execution_count": 13,
     "metadata": {},
     "output_type": "execute_result"
    }
   ],
   "source": [
    "## Review of landslide_size Categories\n",
    "nasa_satimage_log['landslide_size'].unique()"
   ]
  },
  {
   "cell_type": "code",
   "execution_count": 14,
   "id": "18f71d98-517a-41e3-960b-add2dcdd08b4",
   "metadata": {
    "tags": []
   },
   "outputs": [
    {
     "data": {
      "text/html": [
       "<div>\n",
       "<style scoped>\n",
       "    .dataframe tbody tr th:only-of-type {\n",
       "        vertical-align: middle;\n",
       "    }\n",
       "\n",
       "    .dataframe tbody tr th {\n",
       "        vertical-align: top;\n",
       "    }\n",
       "\n",
       "    .dataframe thead th {\n",
       "        text-align: right;\n",
       "    }\n",
       "</style>\n",
       "<table border=\"1\" class=\"dataframe\">\n",
       "  <thead>\n",
       "    <tr style=\"text-align: right;\">\n",
       "      <th></th>\n",
       "      <th>sat_capture</th>\n",
       "      <th>OBJECTID</th>\n",
       "      <th>latitude</th>\n",
       "      <th>longitude</th>\n",
       "      <th>event_id</th>\n",
       "      <th>event_date</th>\n",
       "      <th>event_title</th>\n",
       "      <th>event_description</th>\n",
       "      <th>landslide_size</th>\n",
       "      <th>landslide_trigger</th>\n",
       "      <th>landslide_category</th>\n",
       "      <th>location_accuracy</th>\n",
       "      <th>landslide_setting</th>\n",
       "      <th>fatality_count</th>\n",
       "      <th>location_description</th>\n",
       "      <th>country_name</th>\n",
       "      <th>source_link</th>\n",
       "      <th>Shape</th>\n",
       "      <th>storm_name</th>\n",
       "      <th>photo_link</th>\n",
       "      <th>comments</th>\n",
       "      <th>gazetteer_closest_point</th>\n",
       "      <th>gazetteer_distance</th>\n",
       "    </tr>\n",
       "  </thead>\n",
       "  <tbody>\n",
       "    <tr>\n",
       "      <th>0</th>\n",
       "      <td>passed</td>\n",
       "      <td>18285691</td>\n",
       "      <td>32.5625</td>\n",
       "      <td>107.45</td>\n",
       "      <td>684</td>\n",
       "      <td>2008-08-01 00:00:00</td>\n",
       "      <td>Sigou Village, Loufan County, Shanxi Province</td>\n",
       "      <td>occurred early in morning, 11 villagers buried...</td>\n",
       "      <td>large</td>\n",
       "      <td>rain</td>\n",
       "      <td>landslide</td>\n",
       "      <td>unknown</td>\n",
       "      <td>mine</td>\n",
       "      <td>11.0</td>\n",
       "      <td>Sigou Village, Loufan County, Shanxi Province</td>\n",
       "      <td>China</td>\n",
       "      <td>https://blogs.agu.org/landslideblog/2008/10/14...</td>\n",
       "      <td>(107.45000000000005, 32.56250000000006)</td>\n",
       "      <td>NaN</td>\n",
       "      <td>NaN</td>\n",
       "      <td>NaN</td>\n",
       "      <td>Micang Shan</td>\n",
       "      <td>19.18</td>\n",
       "    </tr>\n",
       "  </tbody>\n",
       "</table>\n",
       "</div>"
      ],
      "text/plain": [
       "  sat_capture  OBJECTID  latitude  longitude  event_id           event_date  \\\n",
       "0      passed  18285691   32.5625     107.45       684  2008-08-01 00:00:00   \n",
       "\n",
       "                                     event_title  \\\n",
       "0  Sigou Village, Loufan County, Shanxi Province   \n",
       "\n",
       "                                   event_description landslide_size  \\\n",
       "0  occurred early in morning, 11 villagers buried...          large   \n",
       "\n",
       "  landslide_trigger landslide_category location_accuracy landslide_setting  \\\n",
       "0              rain          landslide           unknown              mine   \n",
       "\n",
       "   fatality_count                           location_description country_name  \\\n",
       "0            11.0  Sigou Village, Loufan County, Shanxi Province        China   \n",
       "\n",
       "                                         source_link  \\\n",
       "0  https://blogs.agu.org/landslideblog/2008/10/14...   \n",
       "\n",
       "                                     Shape storm_name photo_link comments  \\\n",
       "0  (107.45000000000005, 32.56250000000006)        NaN        NaN      NaN   \n",
       "\n",
       "  gazetteer_closest_point  gazetteer_distance  \n",
       "0             Micang Shan               19.18  "
      ]
     },
     "execution_count": 14,
     "metadata": {},
     "output_type": "execute_result"
    }
   ],
   "source": [
    "nasa_satimage_log.head(1)"
   ]
  },
  {
   "cell_type": "code",
   "execution_count": 15,
   "id": "f78b15f8-a8b0-444b-b801-e0912255c906",
   "metadata": {
    "tags": []
   },
   "outputs": [
    {
     "data": {
      "text/html": [
       "<div>\n",
       "<style scoped>\n",
       "    .dataframe tbody tr th:only-of-type {\n",
       "        vertical-align: middle;\n",
       "    }\n",
       "\n",
       "    .dataframe tbody tr th {\n",
       "        vertical-align: top;\n",
       "    }\n",
       "\n",
       "    .dataframe thead th {\n",
       "        text-align: right;\n",
       "    }\n",
       "</style>\n",
       "<table border=\"1\" class=\"dataframe\">\n",
       "  <thead>\n",
       "    <tr style=\"text-align: right;\">\n",
       "      <th></th>\n",
       "      <th>sat_capture</th>\n",
       "      <th>OBJECTID</th>\n",
       "      <th>latitude</th>\n",
       "      <th>longitude</th>\n",
       "      <th>event_id</th>\n",
       "      <th>event_date</th>\n",
       "      <th>event_title</th>\n",
       "      <th>event_description</th>\n",
       "      <th>landslide_size</th>\n",
       "      <th>landslide_trigger</th>\n",
       "    </tr>\n",
       "  </thead>\n",
       "  <tbody>\n",
       "    <tr>\n",
       "      <th>83</th>\n",
       "      <td>captured</td>\n",
       "      <td>18285774</td>\n",
       "      <td>42.974400</td>\n",
       "      <td>-124.010000</td>\n",
       "      <td>4346</td>\n",
       "      <td>2012-05-02 00:00:00</td>\n",
       "      <td>Myrtle Creek Rd, Bonners Ferry, ID</td>\n",
       "      <td>The Myrtle Creek Road, also known as Forest Ro...</td>\n",
       "      <td>large</td>\n",
       "      <td>downpour</td>\n",
       "    </tr>\n",
       "    <tr>\n",
       "      <th>167</th>\n",
       "      <td>captured</td>\n",
       "      <td>18285858</td>\n",
       "      <td>36.501295</td>\n",
       "      <td>-83.028366</td>\n",
       "      <td>9779</td>\n",
       "      <td>2017-05-13 00:00:00</td>\n",
       "      <td>Rockfall blocks SR 70</td>\n",
       "      <td>Rockfall sends large boulders onto road expect...</td>\n",
       "      <td>medium</td>\n",
       "      <td>unknown</td>\n",
       "    </tr>\n",
       "    <tr>\n",
       "      <th>246</th>\n",
       "      <td>captured</td>\n",
       "      <td>18285937</td>\n",
       "      <td>35.864314</td>\n",
       "      <td>-121.430499</td>\n",
       "      <td>9734</td>\n",
       "      <td>2017-05-20 22:00:00</td>\n",
       "      <td>Mud Creek Slide on SR 1</td>\n",
       "      <td>Massive section of hillside on Big Sur at Mud ...</td>\n",
       "      <td>very_large</td>\n",
       "      <td>rain</td>\n",
       "    </tr>\n",
       "    <tr>\n",
       "      <th>265</th>\n",
       "      <td>captured</td>\n",
       "      <td>18285956</td>\n",
       "      <td>37.680405</td>\n",
       "      <td>-119.748654</td>\n",
       "      <td>9691</td>\n",
       "      <td>2017-06-12 12:00:00</td>\n",
       "      <td>Large rockslide blocks access to Yosemite Nati...</td>\n",
       "      <td>Landslide on Parkline Slab cliff deposits 4,00...</td>\n",
       "      <td>large</td>\n",
       "      <td>unknown</td>\n",
       "    </tr>\n",
       "    <tr>\n",
       "      <th>1497</th>\n",
       "      <td>captured</td>\n",
       "      <td>18287188</td>\n",
       "      <td>40.119200</td>\n",
       "      <td>-105.389600</td>\n",
       "      <td>5501</td>\n",
       "      <td>2013-09-12 01:00:00</td>\n",
       "      <td>Jamestown, Colorado</td>\n",
       "      <td>The floods that struck northern Colorado in Se...</td>\n",
       "      <td>very_large</td>\n",
       "      <td>rain</td>\n",
       "    </tr>\n",
       "    <tr>\n",
       "      <th>4366</th>\n",
       "      <td>captured</td>\n",
       "      <td>18290057</td>\n",
       "      <td>43.450920</td>\n",
       "      <td>-73.326081</td>\n",
       "      <td>10038</td>\n",
       "      <td>2017-04-20 12:00:00</td>\n",
       "      <td>Large landslide damages Truthville Baptist Church</td>\n",
       "      <td>Large landslide destroys back part of church o...</td>\n",
       "      <td>large</td>\n",
       "      <td>unknown</td>\n",
       "    </tr>\n",
       "    <tr>\n",
       "      <th>6889</th>\n",
       "      <td>captured</td>\n",
       "      <td>18292580</td>\n",
       "      <td>10.833928</td>\n",
       "      <td>-60.937089</td>\n",
       "      <td>2787</td>\n",
       "      <td>2010-12-07 03:00:00</td>\n",
       "      <td>Toco</td>\n",
       "      <td>HEAVY rainfall on Monday led to a landslide pa...</td>\n",
       "      <td>medium</td>\n",
       "      <td>downpour</td>\n",
       "    </tr>\n",
       "    <tr>\n",
       "      <th>7377</th>\n",
       "      <td>captured</td>\n",
       "      <td>18293068</td>\n",
       "      <td>58.733000</td>\n",
       "      <td>-136.887800</td>\n",
       "      <td>8334</td>\n",
       "      <td>2016-06-28 08:21:00</td>\n",
       "      <td>Lamplugh Glacier</td>\n",
       "      <td>Paul estimates that the runout of the landslid...</td>\n",
       "      <td>very_large</td>\n",
       "      <td>unknown</td>\n",
       "    </tr>\n",
       "    <tr>\n",
       "      <th>7801</th>\n",
       "      <td>captured</td>\n",
       "      <td>18293492</td>\n",
       "      <td>40.537700</td>\n",
       "      <td>-112.138800</td>\n",
       "      <td>4802</td>\n",
       "      <td>2013-04-10 21:30:00</td>\n",
       "      <td>Bingham Canyon, Ut</td>\n",
       "      <td>The copper mine made headlines on April 10 whe...</td>\n",
       "      <td>very_large</td>\n",
       "      <td>mining</td>\n",
       "    </tr>\n",
       "    <tr>\n",
       "      <th>8268</th>\n",
       "      <td>captured</td>\n",
       "      <td>18293959</td>\n",
       "      <td>39.165200</td>\n",
       "      <td>-107.847600</td>\n",
       "      <td>6038</td>\n",
       "      <td>2014-05-25 00:00:00</td>\n",
       "      <td>Colbran, Colorado</td>\n",
       "      <td>The slide was a half-mile-wide by 3-mile-long....</td>\n",
       "      <td>very_large</td>\n",
       "      <td>rain</td>\n",
       "    </tr>\n",
       "    <tr>\n",
       "      <th>10812</th>\n",
       "      <td>captured</td>\n",
       "      <td>18296503</td>\n",
       "      <td>47.883987</td>\n",
       "      <td>-118.163986</td>\n",
       "      <td>10521</td>\n",
       "      <td>2017-04-02 09:00:00</td>\n",
       "      <td>Porcupine Bay Road Landslide in Lincoln County</td>\n",
       "      <td>A landslide that occurred Sunday north of Dave...</td>\n",
       "      <td>large</td>\n",
       "      <td>downpour</td>\n",
       "    </tr>\n",
       "    <tr>\n",
       "      <th>11051</th>\n",
       "      <td>captured</td>\n",
       "      <td>18296742</td>\n",
       "      <td>50.626041</td>\n",
       "      <td>-123.503581</td>\n",
       "      <td>11239</td>\n",
       "      <td>2010-08-06 03:00:00</td>\n",
       "      <td>Mt Meager Landslide</td>\n",
       "      <td>A very large (&gt;50 M m3) landslide was triggere...</td>\n",
       "      <td>catastrophic</td>\n",
       "      <td>snowfall_snowmelt</td>\n",
       "    </tr>\n",
       "    <tr>\n",
       "      <th>11069</th>\n",
       "      <td>captured</td>\n",
       "      <td>18296760</td>\n",
       "      <td>35.912500</td>\n",
       "      <td>-92.854400</td>\n",
       "      <td>11257</td>\n",
       "      <td>2018-03-23 00:00:00</td>\n",
       "      <td>Landslide could block road in Searcy County</td>\n",
       "      <td>Source described landslide as having started i...</td>\n",
       "      <td>large</td>\n",
       "      <td>unknown</td>\n",
       "    </tr>\n",
       "    <tr>\n",
       "      <th>11158</th>\n",
       "      <td>captured</td>\n",
       "      <td>18296849</td>\n",
       "      <td>43.027707</td>\n",
       "      <td>-110.809081</td>\n",
       "      <td>11363</td>\n",
       "      <td>2018-02-01 00:00:00</td>\n",
       "      <td>Porcupine Landslide</td>\n",
       "      <td>Landslide is 25 acres. After an earthquake wit...</td>\n",
       "      <td>large</td>\n",
       "      <td>earthquake</td>\n",
       "    </tr>\n",
       "    <tr>\n",
       "      <th>11252</th>\n",
       "      <td>captured</td>\n",
       "      <td>18296943</td>\n",
       "      <td>44.414682</td>\n",
       "      <td>-123.746231</td>\n",
       "      <td>11454</td>\n",
       "      <td>2017-02-05 00:00:00</td>\n",
       "      <td>Fall Creek Landslide Threatens Oregon Hatchery...</td>\n",
       "      <td>A landslide was recently assessed by Weyerhaeu...</td>\n",
       "      <td>large</td>\n",
       "      <td>rain</td>\n",
       "    </tr>\n",
       "  </tbody>\n",
       "</table>\n",
       "</div>"
      ],
      "text/plain": [
       "      sat_capture  OBJECTID   latitude   longitude  event_id  \\\n",
       "83       captured  18285774  42.974400 -124.010000      4346   \n",
       "167      captured  18285858  36.501295  -83.028366      9779   \n",
       "246      captured  18285937  35.864314 -121.430499      9734   \n",
       "265      captured  18285956  37.680405 -119.748654      9691   \n",
       "1497     captured  18287188  40.119200 -105.389600      5501   \n",
       "4366     captured  18290057  43.450920  -73.326081     10038   \n",
       "6889     captured  18292580  10.833928  -60.937089      2787   \n",
       "7377     captured  18293068  58.733000 -136.887800      8334   \n",
       "7801     captured  18293492  40.537700 -112.138800      4802   \n",
       "8268     captured  18293959  39.165200 -107.847600      6038   \n",
       "10812    captured  18296503  47.883987 -118.163986     10521   \n",
       "11051    captured  18296742  50.626041 -123.503581     11239   \n",
       "11069    captured  18296760  35.912500  -92.854400     11257   \n",
       "11158    captured  18296849  43.027707 -110.809081     11363   \n",
       "11252    captured  18296943  44.414682 -123.746231     11454   \n",
       "\n",
       "                event_date                                        event_title  \\\n",
       "83     2012-05-02 00:00:00                 Myrtle Creek Rd, Bonners Ferry, ID   \n",
       "167    2017-05-13 00:00:00                              Rockfall blocks SR 70   \n",
       "246    2017-05-20 22:00:00                            Mud Creek Slide on SR 1   \n",
       "265    2017-06-12 12:00:00  Large rockslide blocks access to Yosemite Nati...   \n",
       "1497   2013-09-12 01:00:00                                Jamestown, Colorado   \n",
       "4366   2017-04-20 12:00:00  Large landslide damages Truthville Baptist Church   \n",
       "6889   2010-12-07 03:00:00                                               Toco   \n",
       "7377   2016-06-28 08:21:00                                   Lamplugh Glacier   \n",
       "7801   2013-04-10 21:30:00                                 Bingham Canyon, Ut   \n",
       "8268   2014-05-25 00:00:00                                  Colbran, Colorado   \n",
       "10812  2017-04-02 09:00:00     Porcupine Bay Road Landslide in Lincoln County   \n",
       "11051  2010-08-06 03:00:00                                Mt Meager Landslide   \n",
       "11069  2018-03-23 00:00:00        Landslide could block road in Searcy County   \n",
       "11158  2018-02-01 00:00:00                                Porcupine Landslide   \n",
       "11252  2017-02-05 00:00:00  Fall Creek Landslide Threatens Oregon Hatchery...   \n",
       "\n",
       "                                       event_description landslide_size  \\\n",
       "83     The Myrtle Creek Road, also known as Forest Ro...          large   \n",
       "167    Rockfall sends large boulders onto road expect...         medium   \n",
       "246    Massive section of hillside on Big Sur at Mud ...     very_large   \n",
       "265    Landslide on Parkline Slab cliff deposits 4,00...          large   \n",
       "1497   The floods that struck northern Colorado in Se...     very_large   \n",
       "4366   Large landslide destroys back part of church o...          large   \n",
       "6889   HEAVY rainfall on Monday led to a landslide pa...         medium   \n",
       "7377   Paul estimates that the runout of the landslid...     very_large   \n",
       "7801   The copper mine made headlines on April 10 whe...     very_large   \n",
       "8268   The slide was a half-mile-wide by 3-mile-long....     very_large   \n",
       "10812  A landslide that occurred Sunday north of Dave...          large   \n",
       "11051  A very large (>50 M m3) landslide was triggere...   catastrophic   \n",
       "11069  Source described landslide as having started i...          large   \n",
       "11158  Landslide is 25 acres. After an earthquake wit...          large   \n",
       "11252  A landslide was recently assessed by Weyerhaeu...          large   \n",
       "\n",
       "       landslide_trigger  \n",
       "83              downpour  \n",
       "167              unknown  \n",
       "246                 rain  \n",
       "265              unknown  \n",
       "1497                rain  \n",
       "4366             unknown  \n",
       "6889            downpour  \n",
       "7377             unknown  \n",
       "7801              mining  \n",
       "8268                rain  \n",
       "10812           downpour  \n",
       "11051  snowfall_snowmelt  \n",
       "11069            unknown  \n",
       "11158         earthquake  \n",
       "11252               rain  "
      ]
     },
     "execution_count": 15,
     "metadata": {},
     "output_type": "execute_result"
    }
   ],
   "source": [
    "## Query for Captured\n",
    "nasa_satimage_log.iloc[:,0:10].query(\"sat_capture == 'captured' \")[0:15]"
   ]
  },
  {
   "cell_type": "code",
   "execution_count": 16,
   "id": "1620a635-2cd7-483f-8a65-2bd933c4d897",
   "metadata": {
    "tags": []
   },
   "outputs": [
    {
     "data": {
      "text/html": [
       "<div>\n",
       "<style scoped>\n",
       "    .dataframe tbody tr th:only-of-type {\n",
       "        vertical-align: middle;\n",
       "    }\n",
       "\n",
       "    .dataframe tbody tr th {\n",
       "        vertical-align: top;\n",
       "    }\n",
       "\n",
       "    .dataframe thead th {\n",
       "        text-align: right;\n",
       "    }\n",
       "</style>\n",
       "<table border=\"1\" class=\"dataframe\">\n",
       "  <thead>\n",
       "    <tr style=\"text-align: right;\">\n",
       "      <th></th>\n",
       "      <th>sat_capture</th>\n",
       "      <th>OBJECTID</th>\n",
       "      <th>latitude</th>\n",
       "      <th>longitude</th>\n",
       "      <th>event_id</th>\n",
       "      <th>event_date</th>\n",
       "      <th>event_title</th>\n",
       "      <th>event_description</th>\n",
       "      <th>landslide_size</th>\n",
       "      <th>landslide_trigger</th>\n",
       "      <th>landslide_category</th>\n",
       "      <th>location_accuracy</th>\n",
       "      <th>landslide_setting</th>\n",
       "      <th>fatality_count</th>\n",
       "      <th>location_description</th>\n",
       "      <th>country_name</th>\n",
       "    </tr>\n",
       "  </thead>\n",
       "  <tbody>\n",
       "    <tr>\n",
       "      <th>7303</th>\n",
       "      <td>open</td>\n",
       "      <td>18292994</td>\n",
       "      <td>37.884900</td>\n",
       "      <td>-80.344200</td>\n",
       "      <td>9046</td>\n",
       "      <td>2016-07-07 00:00:00</td>\n",
       "      <td>Greenbrier River Trail, near milepost 13, West...</td>\n",
       "      <td>Landslide occurred in early/mid July of 2016, ...</td>\n",
       "      <td>very_large</td>\n",
       "      <td>continuous_rain</td>\n",
       "      <td>landslide</td>\n",
       "      <td>1km</td>\n",
       "      <td>above_road</td>\n",
       "      <td>0.0</td>\n",
       "      <td>Greenbrier River Trail, near milepost 13, West...</td>\n",
       "      <td>United States</td>\n",
       "    </tr>\n",
       "    <tr>\n",
       "      <th>11066</th>\n",
       "      <td>open</td>\n",
       "      <td>18296757</td>\n",
       "      <td>47.495604</td>\n",
       "      <td>-121.860012</td>\n",
       "      <td>11254</td>\n",
       "      <td>2018-02-02 00:00:00</td>\n",
       "      <td>Rattlesnake Ridge Creep Developing</td>\n",
       "      <td>Rattlesnake Ridge advances at rate of 1.6 feet...</td>\n",
       "      <td>very_large</td>\n",
       "      <td>other</td>\n",
       "      <td>creep</td>\n",
       "      <td>exact</td>\n",
       "      <td>natural_slope</td>\n",
       "      <td>0.0</td>\n",
       "      <td>Rattlesnake Ridge, Snoqualmie, Washington</td>\n",
       "      <td>United States</td>\n",
       "    </tr>\n",
       "    <tr>\n",
       "      <th>11256</th>\n",
       "      <td>open</td>\n",
       "      <td>18296947</td>\n",
       "      <td>47.495554</td>\n",
       "      <td>-121.859788</td>\n",
       "      <td>11458</td>\n",
       "      <td>2018-05-30 00:00:00</td>\n",
       "      <td>Rattlesnake Ridge Continues to Fall</td>\n",
       "      <td>The Yakima County Emergency Management teams r...</td>\n",
       "      <td>very_large</td>\n",
       "      <td>no_apparent_trigger</td>\n",
       "      <td>creep</td>\n",
       "      <td>exact</td>\n",
       "      <td>above_road</td>\n",
       "      <td>0.0</td>\n",
       "      <td>Rattlesnake Ridge, Snoqualmie, Washington</td>\n",
       "      <td>United States</td>\n",
       "    </tr>\n",
       "    <tr>\n",
       "      <th>14196</th>\n",
       "      <td>open</td>\n",
       "      <td>18299887</td>\n",
       "      <td>39.738892</td>\n",
       "      <td>-121.709623</td>\n",
       "      <td>14296</td>\n",
       "      <td>2018-11-29 22:26:38</td>\n",
       "      <td>Heavy rains cause mudflows and debris flows ac...</td>\n",
       "      <td>Heavy rain in the vicinity of the Paradise fir...</td>\n",
       "      <td>very_large</td>\n",
       "      <td>downpour</td>\n",
       "      <td>mudslide</td>\n",
       "      <td>10km</td>\n",
       "      <td>burned_area</td>\n",
       "      <td>0.0</td>\n",
       "      <td>95928, Chico, California</td>\n",
       "      <td>United States</td>\n",
       "    </tr>\n",
       "    <tr>\n",
       "      <th>39609</th>\n",
       "      <td>open</td>\n",
       "      <td>18325300</td>\n",
       "      <td>58.832220</td>\n",
       "      <td>-136.895280</td>\n",
       "      <td>0</td>\n",
       "      <td>2022-09-18 05:12:49</td>\n",
       "      <td>Lamplugh 20220917</td>\n",
       "      <td>New slide atop an existing slide</td>\n",
       "      <td>very_large</td>\n",
       "      <td>freeze_thaw</td>\n",
       "      <td>landslide</td>\n",
       "      <td>exact</td>\n",
       "      <td>natural_slope</td>\n",
       "      <td>0.0</td>\n",
       "      <td>Lamplugh Glacier</td>\n",
       "      <td>United States</td>\n",
       "    </tr>\n",
       "  </tbody>\n",
       "</table>\n",
       "</div>"
      ],
      "text/plain": [
       "      sat_capture  OBJECTID   latitude   longitude  event_id  \\\n",
       "7303         open  18292994  37.884900  -80.344200      9046   \n",
       "11066        open  18296757  47.495604 -121.860012     11254   \n",
       "11256        open  18296947  47.495554 -121.859788     11458   \n",
       "14196        open  18299887  39.738892 -121.709623     14296   \n",
       "39609        open  18325300  58.832220 -136.895280         0   \n",
       "\n",
       "                event_date                                        event_title  \\\n",
       "7303   2016-07-07 00:00:00  Greenbrier River Trail, near milepost 13, West...   \n",
       "11066  2018-02-02 00:00:00                 Rattlesnake Ridge Creep Developing   \n",
       "11256  2018-05-30 00:00:00                Rattlesnake Ridge Continues to Fall   \n",
       "14196  2018-11-29 22:26:38  Heavy rains cause mudflows and debris flows ac...   \n",
       "39609  2022-09-18 05:12:49                                  Lamplugh 20220917   \n",
       "\n",
       "                                       event_description landslide_size  \\\n",
       "7303   Landslide occurred in early/mid July of 2016, ...     very_large   \n",
       "11066  Rattlesnake Ridge advances at rate of 1.6 feet...     very_large   \n",
       "11256  The Yakima County Emergency Management teams r...     very_large   \n",
       "14196  Heavy rain in the vicinity of the Paradise fir...     very_large   \n",
       "39609                   New slide atop an existing slide     very_large   \n",
       "\n",
       "         landslide_trigger landslide_category location_accuracy  \\\n",
       "7303       continuous_rain          landslide               1km   \n",
       "11066                other              creep             exact   \n",
       "11256  no_apparent_trigger              creep             exact   \n",
       "14196             downpour           mudslide              10km   \n",
       "39609          freeze_thaw          landslide             exact   \n",
       "\n",
       "      landslide_setting  fatality_count  \\\n",
       "7303         above_road             0.0   \n",
       "11066     natural_slope             0.0   \n",
       "11256        above_road             0.0   \n",
       "14196       burned_area             0.0   \n",
       "39609     natural_slope             0.0   \n",
       "\n",
       "                                    location_description   country_name  \n",
       "7303   Greenbrier River Trail, near milepost 13, West...  United States  \n",
       "11066          Rattlesnake Ridge, Snoqualmie, Washington  United States  \n",
       "11256          Rattlesnake Ridge, Snoqualmie, Washington  United States  \n",
       "14196                           95928, Chico, California  United States  \n",
       "39609                                   Lamplugh Glacier  United States  "
      ]
     },
     "execution_count": 16,
     "metadata": {},
     "output_type": "execute_result"
    }
   ],
   "source": [
    "#### Query for certain landslides:::::\n",
    "# nasa_satimage_log.iloc[:,0:10].query(\"(landslide_size == 'large' | landslide_size == 'catastrophic') & \\\n",
    "#                                      event_date > '2015-01-01 00:00:00' \")\n",
    "nasa_satimage_log.iloc[:,0:16].query(\"(landslide_size == 'very_large') & \\\n",
    "                                     (event_date > '2015-01-01 00:00:00') & (sat_capture=='open') & (country_name=='United States')  \")"
   ]
  },
  {
   "cell_type": "code",
   "execution_count": null,
   "id": "8367c978-0427-418b-a363-97842671d285",
   "metadata": {},
   "outputs": [],
   "source": []
  },
  {
   "cell_type": "raw",
   "id": "7b14bf4a-89c2-47e0-b3c8-9e8a7f98381f",
   "metadata": {},
   "source": [
    "captured = [\n",
    "passed = ["
   ]
  },
  {
   "cell_type": "code",
   "execution_count": 29,
   "id": "69e2c39a-1f38-4460-ace8-e67eb8227335",
   "metadata": {
    "tags": []
   },
   "outputs": [
    {
     "name": "stdout",
     "output_type": "stream",
     "text": [
      "Paul estimates that the runout of the landslide is about 6 miles (i.e. about 10 km).  In a KHNS Radio article about the landslide, Colin Stark of Colombia University estimates that the volume is about 150 million tonnes, presumably based upon an initial analysis of the seismic catalogue.\n"
     ]
    }
   ],
   "source": [
    "## Query for certain landslides:::::\n",
    "descriptions = nasa_satimage_log.iloc[:,0:10].query(\"event_id == 8334 \")['event_description']\n",
    "# descriptions = nasa_satimage_log.iloc[:,0:16].query(\"location_description == 'Las Tejerías, Yanga, Veracruz-Llave' \")['event_description']\n",
    "# descriptions = nasa_satimage_log.iloc[:,0:16].query(\"location_description == 'Las Tejerías, Yanga, Veracruz-Llave' \")['event_title']\n",
    "for desc in descriptions:\n",
    "    print(desc)"
   ]
  },
  {
   "cell_type": "code",
   "execution_count": 36,
   "id": "8b7397d9-f06a-4e1b-bc9b-2f2c4f6fb1e0",
   "metadata": {
    "tags": []
   },
   "outputs": [
    {
     "data": {
      "text/html": [
       "<div>\n",
       "<style scoped>\n",
       "    .dataframe tbody tr th:only-of-type {\n",
       "        vertical-align: middle;\n",
       "    }\n",
       "\n",
       "    .dataframe tbody tr th {\n",
       "        vertical-align: top;\n",
       "    }\n",
       "\n",
       "    .dataframe thead th {\n",
       "        text-align: right;\n",
       "    }\n",
       "</style>\n",
       "<table border=\"1\" class=\"dataframe\">\n",
       "  <thead>\n",
       "    <tr style=\"text-align: right;\">\n",
       "      <th></th>\n",
       "      <th>sat_capture</th>\n",
       "      <th>OBJECTID</th>\n",
       "      <th>latitude</th>\n",
       "      <th>longitude</th>\n",
       "      <th>event_id</th>\n",
       "      <th>event_date</th>\n",
       "      <th>event_title</th>\n",
       "      <th>event_description</th>\n",
       "      <th>landslide_size</th>\n",
       "      <th>landslide_trigger</th>\n",
       "      <th>landslide_category</th>\n",
       "      <th>location_accuracy</th>\n",
       "    </tr>\n",
       "  </thead>\n",
       "  <tbody>\n",
       "    <tr>\n",
       "      <th>246</th>\n",
       "      <td>captured</td>\n",
       "      <td>18285937</td>\n",
       "      <td>35.864314</td>\n",
       "      <td>-121.430499</td>\n",
       "      <td>9734</td>\n",
       "      <td>2017-05-20 22:00:00</td>\n",
       "      <td>Mud Creek Slide on SR 1</td>\n",
       "      <td>Massive section of hillside on Big Sur at Mud ...</td>\n",
       "      <td>very_large</td>\n",
       "      <td>rain</td>\n",
       "      <td>landslide</td>\n",
       "      <td>exact</td>\n",
       "    </tr>\n",
       "  </tbody>\n",
       "</table>\n",
       "</div>"
      ],
      "text/plain": [
       "    sat_capture  OBJECTID   latitude   longitude  event_id  \\\n",
       "246    captured  18285937  35.864314 -121.430499      9734   \n",
       "\n",
       "              event_date              event_title  \\\n",
       "246  2017-05-20 22:00:00  Mud Creek Slide on SR 1   \n",
       "\n",
       "                                     event_description landslide_size  \\\n",
       "246  Massive section of hillside on Big Sur at Mud ...     very_large   \n",
       "\n",
       "    landslide_trigger landslide_category location_accuracy  \n",
       "246              rain          landslide             exact  "
      ]
     },
     "execution_count": 36,
     "metadata": {},
     "output_type": "execute_result"
    }
   ],
   "source": [
    "## Query for certain landslides:::::\n",
    "nasa_satimage_log.iloc[:,0:12].query(\"event_id == 9734 \")\n",
    "\n",
    "# Using a list\n",
    "# list_id=[10521,11239,11454,11540,13710,14445]\n",
    "# nasa_satimage_log.iloc[:,0:12].query(\"event_id in @list_id\")"
   ]
  },
  {
   "cell_type": "code",
   "execution_count": 79,
   "id": "178ff8c9-aad2-4f17-99e6-433e56b9a5b6",
   "metadata": {},
   "outputs": [
    {
     "data": {
      "text/html": [
       "<div>\n",
       "<style scoped>\n",
       "    .dataframe tbody tr th:only-of-type {\n",
       "        vertical-align: middle;\n",
       "    }\n",
       "\n",
       "    .dataframe tbody tr th {\n",
       "        vertical-align: top;\n",
       "    }\n",
       "\n",
       "    .dataframe thead th {\n",
       "        text-align: right;\n",
       "    }\n",
       "</style>\n",
       "<table border=\"1\" class=\"dataframe\">\n",
       "  <thead>\n",
       "    <tr style=\"text-align: right;\">\n",
       "      <th></th>\n",
       "      <th>sat_capture</th>\n",
       "      <th>OBJECTID</th>\n",
       "      <th>latitude</th>\n",
       "      <th>longitude</th>\n",
       "      <th>event_id</th>\n",
       "      <th>event_date</th>\n",
       "      <th>event_title</th>\n",
       "      <th>event_description</th>\n",
       "      <th>landslide_size</th>\n",
       "      <th>landslide_trigger</th>\n",
       "      <th>landslide_category</th>\n",
       "      <th>location_accuracy</th>\n",
       "      <th>landslide_setting</th>\n",
       "      <th>fatality_count</th>\n",
       "      <th>location_description</th>\n",
       "      <th>country_name</th>\n",
       "    </tr>\n",
       "  </thead>\n",
       "  <tbody>\n",
       "    <tr>\n",
       "      <th>39611</th>\n",
       "      <td>open</td>\n",
       "      <td>18325302</td>\n",
       "      <td>18.81444</td>\n",
       "      <td>-96.79722</td>\n",
       "      <td>2024003</td>\n",
       "      <td>2022-10-10 00:22:12</td>\n",
       "      <td>Heavy Rains Set Off Deadly Landslides in Venez...</td>\n",
       "      <td>The landslides left at least 22 people dead an...</td>\n",
       "      <td>catastrophic</td>\n",
       "      <td>unknown</td>\n",
       "      <td>debris_flow</td>\n",
       "      <td>100km</td>\n",
       "      <td>unknown</td>\n",
       "      <td>22.0</td>\n",
       "      <td>Las Tejerías, Yanga, Veracruz-Llave</td>\n",
       "      <td>Mexico</td>\n",
       "    </tr>\n",
       "  </tbody>\n",
       "</table>\n",
       "</div>"
      ],
      "text/plain": [
       "      sat_capture  OBJECTID  latitude  longitude  event_id  \\\n",
       "39611        open  18325302  18.81444  -96.79722   2024003   \n",
       "\n",
       "                event_date                                        event_title  \\\n",
       "39611  2022-10-10 00:22:12  Heavy Rains Set Off Deadly Landslides in Venez...   \n",
       "\n",
       "                                       event_description landslide_size  \\\n",
       "39611  The landslides left at least 22 people dead an...   catastrophic   \n",
       "\n",
       "      landslide_trigger landslide_category location_accuracy  \\\n",
       "39611           unknown        debris_flow             100km   \n",
       "\n",
       "      landslide_setting  fatality_count                 location_description  \\\n",
       "39611           unknown            22.0  Las Tejerías, Yanga, Veracruz-Llave   \n",
       "\n",
       "      country_name  \n",
       "39611       Mexico  "
      ]
     },
     "execution_count": 79,
     "metadata": {},
     "output_type": "execute_result"
    }
   ],
   "source": [
    "## Query for certain landslides:::::\n",
    "nasa_satimage_log.iloc[:,0:16].query(\"event_title == 'Heavy Rains Set Off Deadly Landslides in Venezuela' \")"
   ]
  },
  {
   "cell_type": "code",
   "execution_count": null,
   "id": "41a1e193-6a48-458b-80a2-e867f1e31fda",
   "metadata": {},
   "outputs": [],
   "source": []
  }
 ],
 "metadata": {
  "kernelspec": {
   "display_name": "Python 3 (ipykernel)",
   "language": "python",
   "name": "python3"
  },
  "language_info": {
   "codemirror_mode": {
    "name": "ipython",
    "version": 3
   },
   "file_extension": ".py",
   "mimetype": "text/x-python",
   "name": "python",
   "nbconvert_exporter": "python",
   "pygments_lexer": "ipython3",
   "version": "3.11.4"
  }
 },
 "nbformat": 4,
 "nbformat_minor": 5
}
