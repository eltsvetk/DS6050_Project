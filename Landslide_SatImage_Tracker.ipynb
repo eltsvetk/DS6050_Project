{
 "cells": [
  {
   "cell_type": "markdown",
   "id": "6a01de79-fd81-4259-b408-4c6736560bd8",
   "metadata": {
    "tags": []
   },
   "source": [
    "**<span style=\"color:#056d39; font-size:27px\">\n",
    "NASA Landslide Image Log - Tracker\n",
    "</span>**"
   ]
  },
  {
   "cell_type": "code",
   "execution_count": 1,
   "id": "4445e5c5-fee8-4041-8fa1-5e3a66b14143",
   "metadata": {
    "tags": []
   },
   "outputs": [],
   "source": [
    "import pandas as pd\n",
    "import numpy as np\n",
    "import seaborn as sns\n",
    "import matplotlib\n",
    "import matplotlib.pyplot as plt, time"
   ]
  },
  {
   "cell_type": "code",
   "execution_count": 2,
   "id": "c16ddb77-b936-482a-8d8c-83b9e17eae0a",
   "metadata": {
    "tags": []
   },
   "outputs": [],
   "source": [
    "pd.set_option('display.max_columns', None) "
   ]
  },
  {
   "cell_type": "code",
   "execution_count": 3,
   "id": "8287e2cd-2892-4875-b00d-cbe967aebad4",
   "metadata": {},
   "outputs": [],
   "source": [
    "## Load data csv file. \n",
    "nasa_satimage_log = pd.read_csv('NASA_SatImage_Log.csv')"
   ]
  },
  {
   "cell_type": "raw",
   "id": "443a7edc-d488-41e3-a8da-89b016f4d7e3",
   "metadata": {
    "tags": []
   },
   "source": [
    "nasa_satimage_log = nasa_satimage_log.astype({col: 'str' for col in nasa_satimage_log.select_dtypes(include='object').columns})"
   ]
  },
  {
   "cell_type": "code",
   "execution_count": 4,
   "id": "7059868c-c5ab-4a03-9a75-42c200129058",
   "metadata": {
    "tags": []
   },
   "outputs": [
    {
     "name": "stdout",
     "output_type": "stream",
     "text": [
      "{'sat_capture': dtype('O'), 'OBJECTID': dtype('int64'), 'latitude': dtype('float64'), 'longitude': dtype('float64'), 'event_id': dtype('int64'), 'event_date': dtype('O'), 'event_title': dtype('O'), 'event_description': dtype('O'), 'landslide_size': dtype('O'), 'landslide_trigger': dtype('O'), 'landslide_category': dtype('O'), 'location_accuracy': dtype('O'), 'landslide_setting': dtype('O'), 'fatality_count': dtype('float64'), 'location_description': dtype('O'), 'country_name': dtype('O'), 'source_link': dtype('O'), 'Shape': dtype('O'), 'storm_name': dtype('O'), 'photo_link': dtype('O'), 'comments': dtype('O'), 'gazetteer_closest_point': dtype('O'), 'gazetteer_distance': dtype('float64')}\n"
     ]
    }
   ],
   "source": [
    "column_types = nasa_satimage_log.dtypes.to_dict()\n",
    "print(column_types)"
   ]
  },
  {
   "cell_type": "code",
   "execution_count": 5,
   "id": "a45a6853-2d10-46f9-a9d4-c6fd55510158",
   "metadata": {},
   "outputs": [
    {
     "name": "stdout",
     "output_type": "stream",
     "text": [
      "(39633, 23)\n"
     ]
    },
    {
     "data": {
      "text/html": [
       "<div>\n",
       "<style scoped>\n",
       "    .dataframe tbody tr th:only-of-type {\n",
       "        vertical-align: middle;\n",
       "    }\n",
       "\n",
       "    .dataframe tbody tr th {\n",
       "        vertical-align: top;\n",
       "    }\n",
       "\n",
       "    .dataframe thead th {\n",
       "        text-align: right;\n",
       "    }\n",
       "</style>\n",
       "<table border=\"1\" class=\"dataframe\">\n",
       "  <thead>\n",
       "    <tr style=\"text-align: right;\">\n",
       "      <th></th>\n",
       "      <th>sat_capture</th>\n",
       "      <th>OBJECTID</th>\n",
       "      <th>latitude</th>\n",
       "      <th>longitude</th>\n",
       "      <th>event_id</th>\n",
       "      <th>event_date</th>\n",
       "      <th>event_title</th>\n",
       "      <th>event_description</th>\n",
       "      <th>landslide_size</th>\n",
       "      <th>landslide_trigger</th>\n",
       "      <th>landslide_category</th>\n",
       "      <th>location_accuracy</th>\n",
       "      <th>landslide_setting</th>\n",
       "      <th>fatality_count</th>\n",
       "      <th>location_description</th>\n",
       "      <th>country_name</th>\n",
       "      <th>source_link</th>\n",
       "      <th>Shape</th>\n",
       "      <th>storm_name</th>\n",
       "      <th>photo_link</th>\n",
       "      <th>comments</th>\n",
       "      <th>gazetteer_closest_point</th>\n",
       "      <th>gazetteer_distance</th>\n",
       "    </tr>\n",
       "  </thead>\n",
       "  <tbody>\n",
       "    <tr>\n",
       "      <th>0</th>\n",
       "      <td>passed</td>\n",
       "      <td>18285691</td>\n",
       "      <td>32.5625</td>\n",
       "      <td>107.45</td>\n",
       "      <td>684</td>\n",
       "      <td>2008-08-01 00:00:00</td>\n",
       "      <td>Sigou Village, Loufan County, Shanxi Province</td>\n",
       "      <td>occurred early in morning, 11 villagers buried...</td>\n",
       "      <td>large</td>\n",
       "      <td>rain</td>\n",
       "      <td>landslide</td>\n",
       "      <td>unknown</td>\n",
       "      <td>mine</td>\n",
       "      <td>11.0</td>\n",
       "      <td>Sigou Village, Loufan County, Shanxi Province</td>\n",
       "      <td>China</td>\n",
       "      <td>https://blogs.agu.org/landslideblog/2008/10/14...</td>\n",
       "      <td>(107.45000000000005, 32.56250000000006)</td>\n",
       "      <td>NaN</td>\n",
       "      <td>NaN</td>\n",
       "      <td>NaN</td>\n",
       "      <td>Micang Shan</td>\n",
       "      <td>19.18</td>\n",
       "    </tr>\n",
       "  </tbody>\n",
       "</table>\n",
       "</div>"
      ],
      "text/plain": [
       "  sat_capture  OBJECTID  latitude  longitude  event_id           event_date  \\\n",
       "0      passed  18285691   32.5625     107.45       684  2008-08-01 00:00:00   \n",
       "\n",
       "                                     event_title  \\\n",
       "0  Sigou Village, Loufan County, Shanxi Province   \n",
       "\n",
       "                                   event_description landslide_size  \\\n",
       "0  occurred early in morning, 11 villagers buried...          large   \n",
       "\n",
       "  landslide_trigger landslide_category location_accuracy landslide_setting  \\\n",
       "0              rain          landslide           unknown              mine   \n",
       "\n",
       "   fatality_count                           location_description country_name  \\\n",
       "0            11.0  Sigou Village, Loufan County, Shanxi Province        China   \n",
       "\n",
       "                                         source_link  \\\n",
       "0  https://blogs.agu.org/landslideblog/2008/10/14...   \n",
       "\n",
       "                                     Shape storm_name photo_link comments  \\\n",
       "0  (107.45000000000005, 32.56250000000006)        NaN        NaN      NaN   \n",
       "\n",
       "  gazetteer_closest_point  gazetteer_distance  \n",
       "0             Micang Shan               19.18  "
      ]
     },
     "execution_count": 5,
     "metadata": {},
     "output_type": "execute_result"
    }
   ],
   "source": [
    "print(nasa_satimage_log.shape)\n",
    "nasa_satimage_log.head(1)"
   ]
  },
  {
   "cell_type": "code",
   "execution_count": 6,
   "id": "1ed8c6e3-a1cd-4916-abf4-978b866a5add",
   "metadata": {
    "tags": []
   },
   "outputs": [
    {
     "data": {
      "text/html": [
       "<div>\n",
       "<style scoped>\n",
       "    .dataframe tbody tr th:only-of-type {\n",
       "        vertical-align: middle;\n",
       "    }\n",
       "\n",
       "    .dataframe tbody tr th {\n",
       "        vertical-align: top;\n",
       "    }\n",
       "\n",
       "    .dataframe thead th {\n",
       "        text-align: right;\n",
       "    }\n",
       "</style>\n",
       "<table border=\"1\" class=\"dataframe\">\n",
       "  <thead>\n",
       "    <tr style=\"text-align: right;\">\n",
       "      <th></th>\n",
       "      <th>sat_capture</th>\n",
       "    </tr>\n",
       "    <tr>\n",
       "      <th>sat_capture</th>\n",
       "      <th></th>\n",
       "    </tr>\n",
       "  </thead>\n",
       "  <tbody>\n",
       "    <tr>\n",
       "      <th>captured</th>\n",
       "      <td>42</td>\n",
       "    </tr>\n",
       "    <tr>\n",
       "      <th>open</th>\n",
       "      <td>39455</td>\n",
       "    </tr>\n",
       "    <tr>\n",
       "      <th>passed</th>\n",
       "      <td>136</td>\n",
       "    </tr>\n",
       "  </tbody>\n",
       "</table>\n",
       "</div>"
      ],
      "text/plain": [
       "             sat_capture\n",
       "sat_capture             \n",
       "captured              42\n",
       "open               39455\n",
       "passed               136"
      ]
     },
     "execution_count": 6,
     "metadata": {},
     "output_type": "execute_result"
    }
   ],
   "source": [
    "### Status of NASA Landslides\n",
    "sat_groupby = nasa_satimage_log.groupby(['sat_capture']).agg({'sat_capture':'count'})\n",
    "sat_groupby"
   ]
  },
  {
   "cell_type": "markdown",
   "id": "b4680723-db21-461c-aec4-75965b24d627",
   "metadata": {
    "tags": []
   },
   "source": [
    "<hr style=\"border:8px solid darkred\">"
   ]
  },
  {
   "cell_type": "markdown",
   "id": "e36d9ebf-abcc-4ccc-8542-2195d9fa9759",
   "metadata": {},
   "source": [
    "**<span style=\"color:Red; font-size:20px\">\n",
    "One Time Column Add\n",
    "</span>**\n",
    "- Adding column to track images captured, passed or open (e.g., not reviewed yet)."
   ]
  },
  {
   "cell_type": "code",
   "execution_count": 8,
   "id": "7c663922-beef-44d7-b72f-024de1cd3b98",
   "metadata": {
    "tags": []
   },
   "outputs": [],
   "source": [
    "# nasa_satimage_log['sat_capture'] = 'open'"
   ]
  },
  {
   "cell_type": "code",
   "execution_count": 9,
   "id": "4729f4f5-6bd1-430d-aea5-91ac76d7f0b4",
   "metadata": {
    "tags": []
   },
   "outputs": [],
   "source": [
    "# col_move = nasa_satimage_log.pop('sat_capture')\n",
    "# nasa_satimage_log.insert(0, 'sat_capture', col_move)"
   ]
  },
  {
   "cell_type": "markdown",
   "id": "801b3e2e-56c9-4e12-b724-b00b2bd9ffb4",
   "metadata": {},
   "source": [
    "<hr style=\"border:6px solid darkred\">"
   ]
  },
  {
   "cell_type": "markdown",
   "id": "9c799033-7ad0-4384-8752-49bb79ce9ee3",
   "metadata": {},
   "source": [
    "**<span style=\"color:#056d39; font-size:27px\">\n",
    "Status Update - Images in NASA log.\n",
    "</span>**"
   ]
  },
  {
   "cell_type": "code",
   "execution_count": 53,
   "id": "b0f93482-08f4-41f7-80be-333116bc00fb",
   "metadata": {
    "tags": []
   },
   "outputs": [
    {
     "data": {
      "text/plain": [
       "array(['passed', 'open', 'captured'], dtype=object)"
      ]
     },
     "execution_count": 53,
     "metadata": {},
     "output_type": "execute_result"
    }
   ],
   "source": [
    "## Review of landslide_size Categories\n",
    "nasa_satimage_log['sat_capture'].unique()"
   ]
  },
  {
   "cell_type": "code",
   "execution_count": 63,
   "id": "3f3add53-14a8-490c-a4b7-21005ebf35bc",
   "metadata": {},
   "outputs": [],
   "source": [
    "## Helper function to update rows: enter list of id numbers and status (captured, passed, open)\n",
    "def stat_update(df,id_number_list, status):\n",
    "    df.loc[nasa_satimage_log['event_id'].isin(id_number_list), 'sat_capture'] = status"
   ]
  },
  {
   "cell_type": "code",
   "execution_count": 89,
   "id": "7db6b89c-2c66-4570-afd4-cbc640e8a83b",
   "metadata": {},
   "outputs": [],
   "source": [
    "# List update\n",
    "nasa_satupdate_list = [10733]\n",
    "status_string = 'passed'"
   ]
  },
  {
   "cell_type": "code",
   "execution_count": 90,
   "id": "1ff313a0-dc8b-47fc-a53a-54b95ef474d6",
   "metadata": {},
   "outputs": [],
   "source": [
    "# Execute Update\n",
    "stat_update(nasa_satimage_log,nasa_satupdate_list,status_string)"
   ]
  },
  {
   "cell_type": "code",
   "execution_count": 91,
   "id": "32c0c745-a776-4dee-b4e1-e4b81b1a1f17",
   "metadata": {
    "tags": []
   },
   "outputs": [],
   "source": [
    "# Save DataFrame to a CSV file, overwriting the existing file\n",
    "nasa_satimage_log.to_csv(\"NASA_SatImage_Log.csv\", index=False)"
   ]
  },
  {
   "cell_type": "markdown",
   "id": "0143b7c3-a2d0-4f2a-aafa-c2d934609db6",
   "metadata": {},
   "source": [
    "<hr style=\"border:6px solid darkred\">"
   ]
  },
  {
   "cell_type": "markdown",
   "id": "2bf5d35c-6930-4d27-9c61-ec17e53fc357",
   "metadata": {},
   "source": [
    "**<span style=\"color:#056d39; font-size:27px\">\n",
    "Update Event ID if 0\n",
    "</span>**"
   ]
  },
  {
   "cell_type": "code",
   "execution_count": null,
   "id": "8d9d7e19-8729-4321-af38-6758ce2686af",
   "metadata": {
    "tags": []
   },
   "outputs": [],
   "source": [
    "## Helper to set new Event Id\n",
    "def event_id_update(df, event_title, id_num):\n",
    "    df.loc[nasa_satimage_log['event_title'] == event_title, 'event_id'] = id_num"
   ]
  },
  {
   "cell_type": "code",
   "execution_count": null,
   "id": "4cb6a446-00a2-41a1-a82a-74bae31d8047",
   "metadata": {
    "tags": []
   },
   "outputs": [],
   "source": [
    "# List update\n",
    "event_title = 'Remoción en masa'\n",
    "id_num = 2024006"
   ]
  },
  {
   "cell_type": "code",
   "execution_count": null,
   "id": "f8c09286-6477-47a7-b9f5-b8a2c8b1d395",
   "metadata": {
    "tags": []
   },
   "outputs": [],
   "source": [
    "# Execute Update\n",
    "event_id_update(nasa_satimage_log, event_title, id_num)"
   ]
  },
  {
   "cell_type": "code",
   "execution_count": null,
   "id": "b7914ca0-1dfd-4451-b7d3-4d4cb7b7f946",
   "metadata": {
    "tags": []
   },
   "outputs": [],
   "source": [
    "# Save DataFrame to a CSV file, overwriting the existing file\n",
    "nasa_satimage_log.to_csv(\"NASA_SatImage_Log.csv\", index=False)"
   ]
  },
  {
   "cell_type": "code",
   "execution_count": null,
   "id": "c8adb2d2-7def-45a6-b566-0f87a5995c5d",
   "metadata": {
    "tags": []
   },
   "outputs": [],
   "source": [
    "#### Query for certain landslides:::::\n",
    "nasa_satimage_log.loc[\n",
    "    nasa_satimage_log['event_id'].astype(str).str.match(r'^\\d{7}$')  ]\n"
   ]
  },
  {
   "cell_type": "markdown",
   "id": "cc5b9eff-7e51-4b0d-9bb3-a86b5a060250",
   "metadata": {},
   "source": [
    "<hr style=\"border:6px solid darkred\">"
   ]
  },
  {
   "cell_type": "markdown",
   "id": "cf2f8649-ea90-40d6-93c0-300ae1b1b979",
   "metadata": {
    "tags": []
   },
   "source": [
    "**<span style=\"color:#056d39; font-size:27px\">\n",
    "Review\n",
    "</span>**"
   ]
  },
  {
   "cell_type": "code",
   "execution_count": 7,
   "id": "c00bc016-679a-462e-99f0-3a83589bc254",
   "metadata": {
    "tags": []
   },
   "outputs": [
    {
     "data": {
      "text/plain": [
       "array(['passed', 'open', 'captured'], dtype=object)"
      ]
     },
     "execution_count": 7,
     "metadata": {},
     "output_type": "execute_result"
    }
   ],
   "source": [
    "## Review of landslide_size Categories\n",
    "nasa_satimage_log['sat_capture'].unique()"
   ]
  },
  {
   "cell_type": "code",
   "execution_count": 8,
   "id": "8fbe9a7f-7e29-45db-9c51-0ae92135a7ce",
   "metadata": {
    "tags": []
   },
   "outputs": [
    {
     "data": {
      "text/plain": [
       "array(['landslide', 'mudslide', 'complex', 'debris_flow', 'rock_fall',\n",
       "       'riverbank_collapse', 'other', 'unknown', 'lahar',\n",
       "       'snow_avalanche', 'creep', 'earth_flow', 'translational_slide',\n",
       "       'topple', 'rotational_slide', nan, 'Landslide', 'Unknown',\n",
       "       'Rock fall', 'Mudslide', 'Rotational slide', 'Other', 'Complex',\n",
       "       'Riverbank collapse', 'Rock slide', 'Creep', 'Rockfall', 'Unkown'],\n",
       "      dtype=object)"
      ]
     },
     "execution_count": 8,
     "metadata": {},
     "output_type": "execute_result"
    }
   ],
   "source": [
    "## Size Categories\n",
    "nasa_satimage_log['landslide_category'].unique()"
   ]
  },
  {
   "cell_type": "code",
   "execution_count": 9,
   "id": "18f71d98-517a-41e3-960b-add2dcdd08b4",
   "metadata": {
    "tags": []
   },
   "outputs": [],
   "source": [
    "# nasa_satimage_log.head(1)"
   ]
  },
  {
   "cell_type": "markdown",
   "id": "c2dba29b-fff3-4fa4-89b3-8962d74a1120",
   "metadata": {
    "tags": []
   },
   "source": [
    "### Review of Captured/Open Points"
   ]
  },
  {
   "cell_type": "code",
   "execution_count": 10,
   "id": "7003bbec-0fdc-4ead-ad23-ac345049ae66",
   "metadata": {
    "tags": []
   },
   "outputs": [
    {
     "ename": "SyntaxError",
     "evalue": "incomplete input (1310881178.py, line 2)",
     "output_type": "error",
     "traceback": [
      "\u001b[0;36m  Cell \u001b[0;32mIn[10], line 2\u001b[0;36m\u001b[0m\n\u001b[0;31m    nasa_satimage_log.groupby([\u001b[0m\n\u001b[0m                               ^\u001b[0m\n\u001b[0;31mSyntaxError\u001b[0m\u001b[0;31m:\u001b[0m incomplete input\n"
     ]
    }
   ],
   "source": [
    "## Size Categories\n",
    "nasa_satimage_log.groupby(["
   ]
  },
  {
   "cell_type": "code",
   "execution_count": 11,
   "id": "f78b15f8-a8b0-444b-b801-e0912255c906",
   "metadata": {
    "tags": []
   },
   "outputs": [
    {
     "data": {
      "text/plain": [
       "landslide_size\n",
       "large           17\n",
       "very_large      15\n",
       "catastrophic     9\n",
       "medium           1\n",
       "Name: count, dtype: int64"
      ]
     },
     "execution_count": 11,
     "metadata": {},
     "output_type": "execute_result"
    }
   ],
   "source": [
    "### Query for Captured/ Passed / Open\n",
    "# print(nasa_satimage_log.iloc[:,0:10].query(\"sat_capture == 'captured' \").shape)\n",
    "nasa_satimage_log.iloc[:,0:16].query(\"sat_capture == 'captured' \")['landslide_size'].value_counts()"
   ]
  },
  {
   "cell_type": "markdown",
   "id": "208cfd68-37cb-4a94-ba0e-d7cd020b677e",
   "metadata": {},
   "source": [
    "### Query for Open Landslides to Research"
   ]
  },
  {
   "cell_type": "code",
   "execution_count": 12,
   "id": "1620a635-2cd7-483f-8a65-2bd933c4d897",
   "metadata": {
    "tags": []
   },
   "outputs": [
    {
     "data": {
      "text/html": [
       "<div>\n",
       "<style scoped>\n",
       "    .dataframe tbody tr th:only-of-type {\n",
       "        vertical-align: middle;\n",
       "    }\n",
       "\n",
       "    .dataframe tbody tr th {\n",
       "        vertical-align: top;\n",
       "    }\n",
       "\n",
       "    .dataframe thead th {\n",
       "        text-align: right;\n",
       "    }\n",
       "</style>\n",
       "<table border=\"1\" class=\"dataframe\">\n",
       "  <thead>\n",
       "    <tr style=\"text-align: right;\">\n",
       "      <th></th>\n",
       "      <th>sat_capture</th>\n",
       "      <th>OBJECTID</th>\n",
       "      <th>latitude</th>\n",
       "      <th>longitude</th>\n",
       "      <th>event_id</th>\n",
       "      <th>event_date</th>\n",
       "      <th>event_title</th>\n",
       "      <th>event_description</th>\n",
       "      <th>landslide_size</th>\n",
       "      <th>landslide_trigger</th>\n",
       "      <th>landslide_category</th>\n",
       "      <th>location_accuracy</th>\n",
       "      <th>landslide_setting</th>\n",
       "      <th>fatality_count</th>\n",
       "      <th>location_description</th>\n",
       "      <th>country_name</th>\n",
       "      <th>source_link</th>\n",
       "      <th>Shape</th>\n",
       "    </tr>\n",
       "  </thead>\n",
       "  <tbody>\n",
       "    <tr>\n",
       "      <th>10184</th>\n",
       "      <td>open</td>\n",
       "      <td>18295875</td>\n",
       "      <td>13.285490</td>\n",
       "      <td>123.729787</td>\n",
       "      <td>11143</td>\n",
       "      <td>2017-01-14 00:00:00</td>\n",
       "      <td>Barangay San Roque Landslide in Malilipot Town...</td>\n",
       "      <td>More than 20 families were evacuated from thei...</td>\n",
       "      <td>large</td>\n",
       "      <td>continuous_rain</td>\n",
       "      <td>landslide</td>\n",
       "      <td>1km</td>\n",
       "      <td>natural_slope</td>\n",
       "      <td>0.0</td>\n",
       "      <td>San Roque, Malilipot, Albay, Philippines</td>\n",
       "      <td>Philippines</td>\n",
       "      <td>https://www.msn.com/en-ph/news/national/20-fam...</td>\n",
       "      <td>(123.72978738500001, 13.285490373000073)</td>\n",
       "    </tr>\n",
       "    <tr>\n",
       "      <th>10187</th>\n",
       "      <td>open</td>\n",
       "      <td>18295878</td>\n",
       "      <td>0.228730</td>\n",
       "      <td>99.969975</td>\n",
       "      <td>11053</td>\n",
       "      <td>2017-01-04 00:00:00</td>\n",
       "      <td>Sunurik and Talu Landslide in Talamau-Sub-dist...</td>\n",
       "      <td>Floods and a landslide have struck the village...</td>\n",
       "      <td>large</td>\n",
       "      <td>downpour</td>\n",
       "      <td>landslide</td>\n",
       "      <td>5km</td>\n",
       "      <td>natural_slope</td>\n",
       "      <td>0.0</td>\n",
       "      <td>Talamau, West Pasaman Regency, West Sumatra, I...</td>\n",
       "      <td>Indonesia</td>\n",
       "      <td>http://www.antaranews.com/en/news/108789/flood...</td>\n",
       "      <td>(99.96997487200008, 0.22873047000007318)</td>\n",
       "    </tr>\n",
       "    <tr>\n",
       "      <th>10195</th>\n",
       "      <td>open</td>\n",
       "      <td>18295886</td>\n",
       "      <td>36.592541</td>\n",
       "      <td>-118.222760</td>\n",
       "      <td>10395</td>\n",
       "      <td>2017-02-09 00:00:00</td>\n",
       "      <td>Whitney Portal Road Major Rockfall</td>\n",
       "      <td>Substantial snowfall from an atmospheric river...</td>\n",
       "      <td>large</td>\n",
       "      <td>snowfall_snowmelt</td>\n",
       "      <td>rock_fall</td>\n",
       "      <td>5km</td>\n",
       "      <td>above_road</td>\n",
       "      <td>0.0</td>\n",
       "      <td>3581 Whitney Portal Rd, Lone Pine, CA 93545</td>\n",
       "      <td>United States</td>\n",
       "      <td>https://www.fs.usda.gov/Internet/FSE_DOCUMENTS...</td>\n",
       "      <td>(-118.22276, 36.59254100000004)</td>\n",
       "    </tr>\n",
       "    <tr>\n",
       "      <th>10211</th>\n",
       "      <td>open</td>\n",
       "      <td>18295902</td>\n",
       "      <td>5.076694</td>\n",
       "      <td>-75.497428</td>\n",
       "      <td>10793</td>\n",
       "      <td>2017-04-19 00:00:00</td>\n",
       "      <td>Fatal landslide in Manizales, various other sl...</td>\n",
       "      <td>143 mm of rain in one night causes landslide i...</td>\n",
       "      <td>large</td>\n",
       "      <td>downpour</td>\n",
       "      <td>landslide</td>\n",
       "      <td>10km</td>\n",
       "      <td>urban</td>\n",
       "      <td>17.0</td>\n",
       "      <td>Manizales, Colombia</td>\n",
       "      <td>Colombia</td>\n",
       "      <td>https://noticias.caracoltv.com/colombia/traged...</td>\n",
       "      <td>(-75.49742753899994, 5.076694444000054)</td>\n",
       "    </tr>\n",
       "    <tr>\n",
       "      <th>10248</th>\n",
       "      <td>open</td>\n",
       "      <td>18295939</td>\n",
       "      <td>5.534741</td>\n",
       "      <td>8.035004</td>\n",
       "      <td>10749</td>\n",
       "      <td>2017-01-12 00:00:00</td>\n",
       "      <td>Agwugune Landslide in Biase Causes Threatens 2...</td>\n",
       "      <td>A landslide has escalated about a week ago in ...</td>\n",
       "      <td>large</td>\n",
       "      <td>other</td>\n",
       "      <td>landslide</td>\n",
       "      <td>25km</td>\n",
       "      <td>above_river</td>\n",
       "      <td>0.0</td>\n",
       "      <td>Biase, Cross River</td>\n",
       "      <td>Nigeria</td>\n",
       "      <td>http://authorityngr.com/2017/01/Landslide-rava...</td>\n",
       "      <td>(8.03500413100005, 5.534740788000022)</td>\n",
       "    </tr>\n",
       "    <tr>\n",
       "      <th>10306</th>\n",
       "      <td>open</td>\n",
       "      <td>18295997</td>\n",
       "      <td>3.488902</td>\n",
       "      <td>97.783889</td>\n",
       "      <td>11021</td>\n",
       "      <td>2017-04-12 06:00:00</td>\n",
       "      <td>Large mudslide in Kutacane</td>\n",
       "      <td>Significant mudslide event destroys 657 homes ...</td>\n",
       "      <td>large</td>\n",
       "      <td>rain</td>\n",
       "      <td>mudslide</td>\n",
       "      <td>10km</td>\n",
       "      <td>natural_slope</td>\n",
       "      <td>3.0</td>\n",
       "      <td>Kutacane, Aceh Tenggara, Aceh, Indonesia</td>\n",
       "      <td>Indonesia</td>\n",
       "      <td>https://hub.maf.org/news/maf-aceh-team-respond...</td>\n",
       "      <td>(97.78388888900008, 3.4889015220000488)</td>\n",
       "    </tr>\n",
       "    <tr>\n",
       "      <th>10338</th>\n",
       "      <td>open</td>\n",
       "      <td>18296029</td>\n",
       "      <td>5.049029</td>\n",
       "      <td>6.245489</td>\n",
       "      <td>10748</td>\n",
       "      <td>2017-01-09 00:00:00</td>\n",
       "      <td>Okoloba Community Slow-Moving Landslide Destro...</td>\n",
       "      <td>Signs that the Okoloba community in Kolokuma-O...</td>\n",
       "      <td>large</td>\n",
       "      <td>flooding</td>\n",
       "      <td>landslide</td>\n",
       "      <td>5km</td>\n",
       "      <td>above_coast</td>\n",
       "      <td>0.0</td>\n",
       "      <td>Kolokuma/Opokuma, Bayelsa</td>\n",
       "      <td>Nigeria</td>\n",
       "      <td>http://thenationonlineng.net/landslides-bayels...</td>\n",
       "      <td>(6.2454888890000575, 5.0490292880000425)</td>\n",
       "    </tr>\n",
       "    <tr>\n",
       "      <th>10373</th>\n",
       "      <td>open</td>\n",
       "      <td>18296064</td>\n",
       "      <td>37.683734</td>\n",
       "      <td>-112.114258</td>\n",
       "      <td>10320</td>\n",
       "      <td>2017-02-24 00:00:00</td>\n",
       "      <td>SR-12 Landslide near Bryce Canyon at Mile Mark...</td>\n",
       "      <td>Sections of the outside lane slid down the hil...</td>\n",
       "      <td>large</td>\n",
       "      <td>freeze_thaw</td>\n",
       "      <td>landslide</td>\n",
       "      <td>1km</td>\n",
       "      <td>below_road</td>\n",
       "      <td>0.0</td>\n",
       "      <td>Highway 12, Mile Marker 14.8, Bryce, Utah</td>\n",
       "      <td>United States</td>\n",
       "      <td>http://archive.sltrib.com/article.php?id=50711...</td>\n",
       "      <td>(-112.11425799999995, 37.68373400000007)</td>\n",
       "    </tr>\n",
       "    <tr>\n",
       "      <th>10375</th>\n",
       "      <td>open</td>\n",
       "      <td>18296066</td>\n",
       "      <td>-11.902829</td>\n",
       "      <td>-76.662754</td>\n",
       "      <td>10783</td>\n",
       "      <td>2017-01-15 00:00:00</td>\n",
       "      <td>Santa Eulalia Landslides</td>\n",
       "      <td>Last Sunday, heavy rains led to landslides in ...</td>\n",
       "      <td>large</td>\n",
       "      <td>downpour</td>\n",
       "      <td>landslide</td>\n",
       "      <td>1km</td>\n",
       "      <td>natural_slope</td>\n",
       "      <td>0.0</td>\n",
       "      <td>Santa Eulalia, Huarochirí, Lima</td>\n",
       "      <td>Peru</td>\n",
       "      <td>http://www.andina.com.pe/Ingles/noticia-photo-...</td>\n",
       "      <td>(-76.66275381899999, -11.90282889699995)</td>\n",
       "    </tr>\n",
       "    <tr>\n",
       "      <th>10416</th>\n",
       "      <td>open</td>\n",
       "      <td>18296107</td>\n",
       "      <td>-7.765409</td>\n",
       "      <td>111.806656</td>\n",
       "      <td>11110</td>\n",
       "      <td>2017-04-09 00:00:00</td>\n",
       "      <td>Fatal landslide near Kepel village</td>\n",
       "      <td>Landslide near Kepel kills 5 people farming at...</td>\n",
       "      <td>large</td>\n",
       "      <td>downpour</td>\n",
       "      <td>landslide</td>\n",
       "      <td>5km</td>\n",
       "      <td>natural_slope</td>\n",
       "      <td>5.0</td>\n",
       "      <td>Kepel, Nganjuk, Jawa Timur, Indonesia</td>\n",
       "      <td>Indonesia</td>\n",
       "      <td>http://floodlist.com/asia/indonesia-5-missing-...</td>\n",
       "      <td>(111.80665602600004, -7.765408763999972)</td>\n",
       "    </tr>\n",
       "    <tr>\n",
       "      <th>10437</th>\n",
       "      <td>open</td>\n",
       "      <td>18296128</td>\n",
       "      <td>-12.014678</td>\n",
       "      <td>-76.901196</td>\n",
       "      <td>10785</td>\n",
       "      <td>2017-03-17 00:00:00</td>\n",
       "      <td>Huachipa District Landslide</td>\n",
       "      <td>A massive landslide and flood in the Huachipa ...</td>\n",
       "      <td>large</td>\n",
       "      <td>downpour</td>\n",
       "      <td>landslide</td>\n",
       "      <td>1km</td>\n",
       "      <td>above_river</td>\n",
       "      <td>NaN</td>\n",
       "      <td>Huachipa district, Lima, 15457</td>\n",
       "      <td>Peru</td>\n",
       "      <td>https://www.theatlantic.com/photo/2017/03/peru...</td>\n",
       "      <td>(-76.90119589199998, -12.014677889999973)</td>\n",
       "    </tr>\n",
       "    <tr>\n",
       "      <th>10442</th>\n",
       "      <td>open</td>\n",
       "      <td>18296133</td>\n",
       "      <td>-16.549009</td>\n",
       "      <td>-68.068922</td>\n",
       "      <td>10773</td>\n",
       "      <td>2017-02-15 15:00:00</td>\n",
       "      <td>Auquisamaña Area Landslide Destroys Several Homes</td>\n",
       "      <td>A landslide in La Paz, Bolivia has destroyed a...</td>\n",
       "      <td>large</td>\n",
       "      <td>unknown</td>\n",
       "      <td>landslide</td>\n",
       "      <td>1km</td>\n",
       "      <td>natural_slope</td>\n",
       "      <td>0.0</td>\n",
       "      <td>Auquisamaña, Nuestra Señora de La Paz, Bolivia</td>\n",
       "      <td>Bolivia</td>\n",
       "      <td>http://www.vippy.tv/society/31188/landslide-in...</td>\n",
       "      <td>(-68.06892166599994, -16.54900909099996)</td>\n",
       "    </tr>\n",
       "    <tr>\n",
       "      <th>10453</th>\n",
       "      <td>open</td>\n",
       "      <td>18296144</td>\n",
       "      <td>7.044361</td>\n",
       "      <td>93.797586</td>\n",
       "      <td>11043</td>\n",
       "      <td>2017-01-06 00:00:00</td>\n",
       "      <td>Great Nicobar Landslides across the Island</td>\n",
       "      <td>Incessant rain over the past few days has trig...</td>\n",
       "      <td>large</td>\n",
       "      <td>continuous_rain</td>\n",
       "      <td>landslide</td>\n",
       "      <td>25km</td>\n",
       "      <td>natural_slope</td>\n",
       "      <td>0.0</td>\n",
       "      <td>Great Nicobar, Andaman &amp; Nicobar Islands</td>\n",
       "      <td>India</td>\n",
       "      <td>http://echoofindia.com/campbell-bay-heavy-rain...</td>\n",
       "      <td>(93.79758631700008, 7.044361138000056)</td>\n",
       "    </tr>\n",
       "    <tr>\n",
       "      <th>10495</th>\n",
       "      <td>open</td>\n",
       "      <td>18296186</td>\n",
       "      <td>41.204717</td>\n",
       "      <td>72.860093</td>\n",
       "      <td>10898</td>\n",
       "      <td>2017-04-11 00:00:00</td>\n",
       "      <td>Significant landslide in Korgon-Jar village</td>\n",
       "      <td>Landslide obstructs Kara-Unkur River, threaten...</td>\n",
       "      <td>large</td>\n",
       "      <td>rain</td>\n",
       "      <td>landslide</td>\n",
       "      <td>50km</td>\n",
       "      <td>above_river</td>\n",
       "      <td>0.0</td>\n",
       "      <td>Korgon-Jar (??), Bazar-Korgon, Jalal-Abad</td>\n",
       "      <td>Kyrgyzstan</td>\n",
       "      <td>https://akipress.com/news:591167/</td>\n",
       "      <td>(72.86009332300006, 41.20471679800005)</td>\n",
       "    </tr>\n",
       "    <tr>\n",
       "      <th>10565</th>\n",
       "      <td>open</td>\n",
       "      <td>18296256</td>\n",
       "      <td>-6.604482</td>\n",
       "      <td>105.786128</td>\n",
       "      <td>11056</td>\n",
       "      <td>2017-02-09 00:00:00</td>\n",
       "      <td>Landslides and Floods in Sobang District Evacu...</td>\n",
       "      <td>Flooding in Pandeglang Regency damaged 3,671 h...</td>\n",
       "      <td>large</td>\n",
       "      <td>downpour</td>\n",
       "      <td>landslide</td>\n",
       "      <td>10km</td>\n",
       "      <td>natural_slope</td>\n",
       "      <td>0.0</td>\n",
       "      <td>Sobang, Pandeglang, Banten</td>\n",
       "      <td>Indonesia</td>\n",
       "      <td>http://floodlist.com/asia/indonesia-floods-lan...</td>\n",
       "      <td>(105.78612765400004, -6.604481999999962)</td>\n",
       "    </tr>\n",
       "    <tr>\n",
       "      <th>10579</th>\n",
       "      <td>open</td>\n",
       "      <td>18296270</td>\n",
       "      <td>27.583849</td>\n",
       "      <td>91.876945</td>\n",
       "      <td>11177</td>\n",
       "      <td>2017-07-11 00:00:00</td>\n",
       "      <td>Landslide in Tawang</td>\n",
       "      <td>Two more people were killed in another landsli...</td>\n",
       "      <td>large</td>\n",
       "      <td>rain</td>\n",
       "      <td>landslide</td>\n",
       "      <td>5km</td>\n",
       "      <td>unknown</td>\n",
       "      <td>19.0</td>\n",
       "      <td>Tawang, Arunchal Pradesh</td>\n",
       "      <td>India</td>\n",
       "      <td>https://www.newsbytesapp.com/timeline/India/19...</td>\n",
       "      <td>(91.87694500000003, 27.583849000000043)</td>\n",
       "    </tr>\n",
       "    <tr>\n",
       "      <th>10662</th>\n",
       "      <td>open</td>\n",
       "      <td>18296353</td>\n",
       "      <td>26.672641</td>\n",
       "      <td>105.668843</td>\n",
       "      <td>11001</td>\n",
       "      <td>2017-07-08 09:00:00</td>\n",
       "      <td>Landslide in Zhangzhai</td>\n",
       "      <td>Landslide triggered by rain dislodges 50,000 c...</td>\n",
       "      <td>large</td>\n",
       "      <td>rain</td>\n",
       "      <td>landslide</td>\n",
       "      <td>1km</td>\n",
       "      <td>natural_slope</td>\n",
       "      <td>0.0</td>\n",
       "      <td>Zhangzhai Township, Guizhou Province, China</td>\n",
       "      <td>China</td>\n",
       "      <td>http://blogs.agu.org/landslideblog/</td>\n",
       "      <td>(105.66884332300003, 26.672641103000046)</td>\n",
       "    </tr>\n",
       "    <tr>\n",
       "      <th>10669</th>\n",
       "      <td>open</td>\n",
       "      <td>18296360</td>\n",
       "      <td>33.256468</td>\n",
       "      <td>75.773613</td>\n",
       "      <td>10840</td>\n",
       "      <td>2017-02-26 00:00:00</td>\n",
       "      <td>Doda-Kishtwar Highway Cuts Kishtwar off from D...</td>\n",
       "      <td>A massive landslide cut off the mountainous di...</td>\n",
       "      <td>large</td>\n",
       "      <td>snowfall_snowmelt</td>\n",
       "      <td>landslide</td>\n",
       "      <td>10km</td>\n",
       "      <td>above_road</td>\n",
       "      <td>0.0</td>\n",
       "      <td>NH-1B, Kishtwar, Jammu &amp; Kashmir, 182204</td>\n",
       "      <td>India</td>\n",
       "      <td>http://www.thehindu.com/todays-paper/tp-nation...</td>\n",
       "      <td>(75.77361312700003, 33.25646771100003)</td>\n",
       "    </tr>\n",
       "    <tr>\n",
       "      <th>10672</th>\n",
       "      <td>open</td>\n",
       "      <td>18296363</td>\n",
       "      <td>40.881674</td>\n",
       "      <td>73.421044</td>\n",
       "      <td>10906</td>\n",
       "      <td>2017-03-26 00:00:00</td>\n",
       "      <td>Nichke-Sai Fatal Landslide</td>\n",
       "      <td>A large fatal landslide at Nichke-Sai village ...</td>\n",
       "      <td>large</td>\n",
       "      <td>unknown</td>\n",
       "      <td>landslide</td>\n",
       "      <td>25km</td>\n",
       "      <td>natural_slope</td>\n",
       "      <td>6.0</td>\n",
       "      <td>Ozgon, Osh</td>\n",
       "      <td>Kyrgyzstan</td>\n",
       "      <td>http://blogs.agu.org/landslideblog/2017/03/27/...</td>\n",
       "      <td>(73.42104360600007, 40.88167415500004)</td>\n",
       "    </tr>\n",
       "    <tr>\n",
       "      <th>10695</th>\n",
       "      <td>open</td>\n",
       "      <td>18296386</td>\n",
       "      <td>10.442036</td>\n",
       "      <td>123.876050</td>\n",
       "      <td>11141</td>\n",
       "      <td>2017-01-20 00:00:00</td>\n",
       "      <td>Barangay Adlaon Landslides Evacuate 13 Families</td>\n",
       "      <td>After heavy rains over the weekend, huge crack...</td>\n",
       "      <td>large</td>\n",
       "      <td>downpour</td>\n",
       "      <td>landslide</td>\n",
       "      <td>5km</td>\n",
       "      <td>engineered_slope</td>\n",
       "      <td>0.0</td>\n",
       "      <td>Adlaon, Cebu City, Cebu, Philippines</td>\n",
       "      <td>Philippines</td>\n",
       "      <td>http://www.sunstar.com.ph/cebu/local-news/2017...</td>\n",
       "      <td>(123.87605006600006, 10.442036001000076)</td>\n",
       "    </tr>\n",
       "  </tbody>\n",
       "</table>\n",
       "</div>"
      ],
      "text/plain": [
       "      sat_capture  OBJECTID   latitude   longitude  event_id  \\\n",
       "10184        open  18295875  13.285490  123.729787     11143   \n",
       "10187        open  18295878   0.228730   99.969975     11053   \n",
       "10195        open  18295886  36.592541 -118.222760     10395   \n",
       "10211        open  18295902   5.076694  -75.497428     10793   \n",
       "10248        open  18295939   5.534741    8.035004     10749   \n",
       "10306        open  18295997   3.488902   97.783889     11021   \n",
       "10338        open  18296029   5.049029    6.245489     10748   \n",
       "10373        open  18296064  37.683734 -112.114258     10320   \n",
       "10375        open  18296066 -11.902829  -76.662754     10783   \n",
       "10416        open  18296107  -7.765409  111.806656     11110   \n",
       "10437        open  18296128 -12.014678  -76.901196     10785   \n",
       "10442        open  18296133 -16.549009  -68.068922     10773   \n",
       "10453        open  18296144   7.044361   93.797586     11043   \n",
       "10495        open  18296186  41.204717   72.860093     10898   \n",
       "10565        open  18296256  -6.604482  105.786128     11056   \n",
       "10579        open  18296270  27.583849   91.876945     11177   \n",
       "10662        open  18296353  26.672641  105.668843     11001   \n",
       "10669        open  18296360  33.256468   75.773613     10840   \n",
       "10672        open  18296363  40.881674   73.421044     10906   \n",
       "10695        open  18296386  10.442036  123.876050     11141   \n",
       "\n",
       "                event_date                                        event_title  \\\n",
       "10184  2017-01-14 00:00:00  Barangay San Roque Landslide in Malilipot Town...   \n",
       "10187  2017-01-04 00:00:00  Sunurik and Talu Landslide in Talamau-Sub-dist...   \n",
       "10195  2017-02-09 00:00:00                 Whitney Portal Road Major Rockfall   \n",
       "10211  2017-04-19 00:00:00  Fatal landslide in Manizales, various other sl...   \n",
       "10248  2017-01-12 00:00:00  Agwugune Landslide in Biase Causes Threatens 2...   \n",
       "10306  2017-04-12 06:00:00                         Large mudslide in Kutacane   \n",
       "10338  2017-01-09 00:00:00  Okoloba Community Slow-Moving Landslide Destro...   \n",
       "10373  2017-02-24 00:00:00  SR-12 Landslide near Bryce Canyon at Mile Mark...   \n",
       "10375  2017-01-15 00:00:00                           Santa Eulalia Landslides   \n",
       "10416  2017-04-09 00:00:00                 Fatal landslide near Kepel village   \n",
       "10437  2017-03-17 00:00:00                        Huachipa District Landslide   \n",
       "10442  2017-02-15 15:00:00  Auquisamaña Area Landslide Destroys Several Homes   \n",
       "10453  2017-01-06 00:00:00         Great Nicobar Landslides across the Island   \n",
       "10495  2017-04-11 00:00:00        Significant landslide in Korgon-Jar village   \n",
       "10565  2017-02-09 00:00:00  Landslides and Floods in Sobang District Evacu...   \n",
       "10579  2017-07-11 00:00:00                                Landslide in Tawang   \n",
       "10662  2017-07-08 09:00:00                             Landslide in Zhangzhai   \n",
       "10669  2017-02-26 00:00:00  Doda-Kishtwar Highway Cuts Kishtwar off from D...   \n",
       "10672  2017-03-26 00:00:00                         Nichke-Sai Fatal Landslide   \n",
       "10695  2017-01-20 00:00:00    Barangay Adlaon Landslides Evacuate 13 Families   \n",
       "\n",
       "                                       event_description landslide_size  \\\n",
       "10184  More than 20 families were evacuated from thei...          large   \n",
       "10187  Floods and a landslide have struck the village...          large   \n",
       "10195  Substantial snowfall from an atmospheric river...          large   \n",
       "10211  143 mm of rain in one night causes landslide i...          large   \n",
       "10248  A landslide has escalated about a week ago in ...          large   \n",
       "10306  Significant mudslide event destroys 657 homes ...          large   \n",
       "10338  Signs that the Okoloba community in Kolokuma-O...          large   \n",
       "10373  Sections of the outside lane slid down the hil...          large   \n",
       "10375  Last Sunday, heavy rains led to landslides in ...          large   \n",
       "10416  Landslide near Kepel kills 5 people farming at...          large   \n",
       "10437  A massive landslide and flood in the Huachipa ...          large   \n",
       "10442  A landslide in La Paz, Bolivia has destroyed a...          large   \n",
       "10453  Incessant rain over the past few days has trig...          large   \n",
       "10495  Landslide obstructs Kara-Unkur River, threaten...          large   \n",
       "10565  Flooding in Pandeglang Regency damaged 3,671 h...          large   \n",
       "10579  Two more people were killed in another landsli...          large   \n",
       "10662  Landslide triggered by rain dislodges 50,000 c...          large   \n",
       "10669  A massive landslide cut off the mountainous di...          large   \n",
       "10672  A large fatal landslide at Nichke-Sai village ...          large   \n",
       "10695  After heavy rains over the weekend, huge crack...          large   \n",
       "\n",
       "       landslide_trigger landslide_category location_accuracy  \\\n",
       "10184    continuous_rain          landslide               1km   \n",
       "10187           downpour          landslide               5km   \n",
       "10195  snowfall_snowmelt          rock_fall               5km   \n",
       "10211           downpour          landslide              10km   \n",
       "10248              other          landslide              25km   \n",
       "10306               rain           mudslide              10km   \n",
       "10338           flooding          landslide               5km   \n",
       "10373        freeze_thaw          landslide               1km   \n",
       "10375           downpour          landslide               1km   \n",
       "10416           downpour          landslide               5km   \n",
       "10437           downpour          landslide               1km   \n",
       "10442            unknown          landslide               1km   \n",
       "10453    continuous_rain          landslide              25km   \n",
       "10495               rain          landslide              50km   \n",
       "10565           downpour          landslide              10km   \n",
       "10579               rain          landslide               5km   \n",
       "10662               rain          landslide               1km   \n",
       "10669  snowfall_snowmelt          landslide              10km   \n",
       "10672            unknown          landslide              25km   \n",
       "10695           downpour          landslide               5km   \n",
       "\n",
       "      landslide_setting  fatality_count  \\\n",
       "10184     natural_slope             0.0   \n",
       "10187     natural_slope             0.0   \n",
       "10195        above_road             0.0   \n",
       "10211             urban            17.0   \n",
       "10248       above_river             0.0   \n",
       "10306     natural_slope             3.0   \n",
       "10338       above_coast             0.0   \n",
       "10373        below_road             0.0   \n",
       "10375     natural_slope             0.0   \n",
       "10416     natural_slope             5.0   \n",
       "10437       above_river             NaN   \n",
       "10442     natural_slope             0.0   \n",
       "10453     natural_slope             0.0   \n",
       "10495       above_river             0.0   \n",
       "10565     natural_slope             0.0   \n",
       "10579           unknown            19.0   \n",
       "10662     natural_slope             0.0   \n",
       "10669        above_road             0.0   \n",
       "10672     natural_slope             6.0   \n",
       "10695  engineered_slope             0.0   \n",
       "\n",
       "                                    location_description   country_name  \\\n",
       "10184           San Roque, Malilipot, Albay, Philippines    Philippines   \n",
       "10187  Talamau, West Pasaman Regency, West Sumatra, I...      Indonesia   \n",
       "10195        3581 Whitney Portal Rd, Lone Pine, CA 93545  United States   \n",
       "10211                                Manizales, Colombia       Colombia   \n",
       "10248                                 Biase, Cross River        Nigeria   \n",
       "10306           Kutacane, Aceh Tenggara, Aceh, Indonesia      Indonesia   \n",
       "10338                          Kolokuma/Opokuma, Bayelsa        Nigeria   \n",
       "10373          Highway 12, Mile Marker 14.8, Bryce, Utah  United States   \n",
       "10375                    Santa Eulalia, Huarochirí, Lima           Peru   \n",
       "10416              Kepel, Nganjuk, Jawa Timur, Indonesia      Indonesia   \n",
       "10437                     Huachipa district, Lima, 15457           Peru   \n",
       "10442     Auquisamaña, Nuestra Señora de La Paz, Bolivia        Bolivia   \n",
       "10453           Great Nicobar, Andaman & Nicobar Islands          India   \n",
       "10495          Korgon-Jar (??), Bazar-Korgon, Jalal-Abad     Kyrgyzstan   \n",
       "10565                         Sobang, Pandeglang, Banten      Indonesia   \n",
       "10579                           Tawang, Arunchal Pradesh          India   \n",
       "10662        Zhangzhai Township, Guizhou Province, China          China   \n",
       "10669           NH-1B, Kishtwar, Jammu & Kashmir, 182204          India   \n",
       "10672                                         Ozgon, Osh     Kyrgyzstan   \n",
       "10695               Adlaon, Cebu City, Cebu, Philippines    Philippines   \n",
       "\n",
       "                                             source_link  \\\n",
       "10184  https://www.msn.com/en-ph/news/national/20-fam...   \n",
       "10187  http://www.antaranews.com/en/news/108789/flood...   \n",
       "10195  https://www.fs.usda.gov/Internet/FSE_DOCUMENTS...   \n",
       "10211  https://noticias.caracoltv.com/colombia/traged...   \n",
       "10248  http://authorityngr.com/2017/01/Landslide-rava...   \n",
       "10306  https://hub.maf.org/news/maf-aceh-team-respond...   \n",
       "10338  http://thenationonlineng.net/landslides-bayels...   \n",
       "10373  http://archive.sltrib.com/article.php?id=50711...   \n",
       "10375  http://www.andina.com.pe/Ingles/noticia-photo-...   \n",
       "10416  http://floodlist.com/asia/indonesia-5-missing-...   \n",
       "10437  https://www.theatlantic.com/photo/2017/03/peru...   \n",
       "10442  http://www.vippy.tv/society/31188/landslide-in...   \n",
       "10453  http://echoofindia.com/campbell-bay-heavy-rain...   \n",
       "10495                  https://akipress.com/news:591167/   \n",
       "10565  http://floodlist.com/asia/indonesia-floods-lan...   \n",
       "10579  https://www.newsbytesapp.com/timeline/India/19...   \n",
       "10662                http://blogs.agu.org/landslideblog/   \n",
       "10669  http://www.thehindu.com/todays-paper/tp-nation...   \n",
       "10672  http://blogs.agu.org/landslideblog/2017/03/27/...   \n",
       "10695  http://www.sunstar.com.ph/cebu/local-news/2017...   \n",
       "\n",
       "                                           Shape  \n",
       "10184   (123.72978738500001, 13.285490373000073)  \n",
       "10187   (99.96997487200008, 0.22873047000007318)  \n",
       "10195            (-118.22276, 36.59254100000004)  \n",
       "10211    (-75.49742753899994, 5.076694444000054)  \n",
       "10248      (8.03500413100005, 5.534740788000022)  \n",
       "10306    (97.78388888900008, 3.4889015220000488)  \n",
       "10338   (6.2454888890000575, 5.0490292880000425)  \n",
       "10373   (-112.11425799999995, 37.68373400000007)  \n",
       "10375   (-76.66275381899999, -11.90282889699995)  \n",
       "10416   (111.80665602600004, -7.765408763999972)  \n",
       "10437  (-76.90119589199998, -12.014677889999973)  \n",
       "10442   (-68.06892166599994, -16.54900909099996)  \n",
       "10453     (93.79758631700008, 7.044361138000056)  \n",
       "10495     (72.86009332300006, 41.20471679800005)  \n",
       "10565   (105.78612765400004, -6.604481999999962)  \n",
       "10579    (91.87694500000003, 27.583849000000043)  \n",
       "10662   (105.66884332300003, 26.672641103000046)  \n",
       "10669     (75.77361312700003, 33.25646771100003)  \n",
       "10672     (73.42104360600007, 40.88167415500004)  \n",
       "10695   (123.87605006600006, 10.442036001000076)  "
      ]
     },
     "execution_count": 12,
     "metadata": {},
     "output_type": "execute_result"
    }
   ],
   "source": [
    "#### Query for certain landslides:::::\n",
    "# nasa_satimage_log.iloc[:,0:10].query(\"(landslide_size == 'large' | landslide_size == 'catastrophic') & \\\n",
    "#                                      event_date > '2015-01-01 00:00:00' \")\n",
    "nasa_satimage_log.iloc[:,0:18].query(\" (landslide_size == 'large') & (event_date > '2017-01-01 00:00:00') & \\\n",
    "                (sat_capture=='open')  \")[20:40] ###& (location_accuracy=='exact')  \") (landslide_size == 'large') debris_flow & (landslide_category == 'debris_flow')"
   ]
  },
  {
   "cell_type": "raw",
   "id": "7b14bf4a-89c2-47e0-b3c8-9e8a7f98381f",
   "metadata": {},
   "source": [
    "captured = [\n",
    "passed = ["
   ]
  },
  {
   "cell_type": "markdown",
   "id": "1fbbfe6e-0401-41b4-8583-73be6033795d",
   "metadata": {},
   "source": [
    "### **Single Review**"
   ]
  },
  {
   "cell_type": "code",
   "execution_count": 16,
   "id": "5c7c8d0a-c5b0-48a3-a7c0-834db8cb3947",
   "metadata": {
    "tags": []
   },
   "outputs": [],
   "source": [
    "request_event = 2024005"
   ]
  },
  {
   "cell_type": "code",
   "execution_count": 17,
   "id": "69e2c39a-1f38-4460-ace8-e67eb8227335",
   "metadata": {
    "tags": []
   },
   "outputs": [
    {
     "name": "stdout",
     "output_type": "stream",
     "text": [
      "This September 9, the heavy rains registered in the city of Maracay, Aragua state, caused the overflow of the El Limón river. Several sectors are affected by the floods.\n"
     ]
    }
   ],
   "source": [
    "## Query for certain landslides:::::\n",
    "descriptions = nasa_satimage_log.iloc[:,0:10].query(\"event_id == @request_event\")['event_description']\n",
    "# descriptions = nasa_satimage_log.iloc[:,0:16].query(\"location_description == 'Las Tejerías, Yanga, Veracruz-Llave' \")['event_description']\n",
    "# descriptions = nasa_satimage_log.iloc[:,0:16].query(\"location_description == 'Las Tejerías, Yanga, Veracruz-Llave' \")['event_title']\n",
    "\n",
    "for desc in descriptions:\n",
    "    print(desc)"
   ]
  },
  {
   "cell_type": "code",
   "execution_count": 18,
   "id": "8b7397d9-f06a-4e1b-bc9b-2f2c4f6fb1e0",
   "metadata": {
    "tags": []
   },
   "outputs": [
    {
     "data": {
      "text/html": [
       "<div>\n",
       "<style scoped>\n",
       "    .dataframe tbody tr th:only-of-type {\n",
       "        vertical-align: middle;\n",
       "    }\n",
       "\n",
       "    .dataframe tbody tr th {\n",
       "        vertical-align: top;\n",
       "    }\n",
       "\n",
       "    .dataframe thead th {\n",
       "        text-align: right;\n",
       "    }\n",
       "</style>\n",
       "<table border=\"1\" class=\"dataframe\">\n",
       "  <thead>\n",
       "    <tr style=\"text-align: right;\">\n",
       "      <th></th>\n",
       "      <th>sat_capture</th>\n",
       "      <th>OBJECTID</th>\n",
       "      <th>latitude</th>\n",
       "      <th>longitude</th>\n",
       "      <th>event_id</th>\n",
       "      <th>event_date</th>\n",
       "      <th>event_title</th>\n",
       "      <th>event_description</th>\n",
       "      <th>landslide_size</th>\n",
       "      <th>landslide_trigger</th>\n",
       "      <th>landslide_category</th>\n",
       "      <th>location_accuracy</th>\n",
       "      <th>landslide_setting</th>\n",
       "      <th>fatality_count</th>\n",
       "      <th>location_description</th>\n",
       "      <th>country_name</th>\n",
       "    </tr>\n",
       "  </thead>\n",
       "  <tbody>\n",
       "    <tr>\n",
       "      <th>39614</th>\n",
       "      <td>captured</td>\n",
       "      <td>18325305</td>\n",
       "      <td>10.321638</td>\n",
       "      <td>-67.64242</td>\n",
       "      <td>2024005</td>\n",
       "      <td>2020-09-09 04:00:00</td>\n",
       "      <td>El Limon</td>\n",
       "      <td>This September 9, the heavy rains registered i...</td>\n",
       "      <td>very_large</td>\n",
       "      <td>continuous_rain</td>\n",
       "      <td>debris_flow</td>\n",
       "      <td>1km</td>\n",
       "      <td>deforested_slope</td>\n",
       "      <td>0.0</td>\n",
       "      <td>Mario Briceño Iragorry, Aragua</td>\n",
       "      <td>Venezuela</td>\n",
       "    </tr>\n",
       "  </tbody>\n",
       "</table>\n",
       "</div>"
      ],
      "text/plain": [
       "      sat_capture  OBJECTID   latitude  longitude  event_id  \\\n",
       "39614    captured  18325305  10.321638  -67.64242   2024005   \n",
       "\n",
       "                event_date event_title  \\\n",
       "39614  2020-09-09 04:00:00    El Limon   \n",
       "\n",
       "                                       event_description landslide_size  \\\n",
       "39614  This September 9, the heavy rains registered i...     very_large   \n",
       "\n",
       "      landslide_trigger landslide_category location_accuracy  \\\n",
       "39614   continuous_rain        debris_flow               1km   \n",
       "\n",
       "      landslide_setting  fatality_count            location_description  \\\n",
       "39614  deforested_slope             0.0  Mario Briceño Iragorry, Aragua   \n",
       "\n",
       "      country_name  \n",
       "39614    Venezuela  "
      ]
     },
     "execution_count": 18,
     "metadata": {},
     "output_type": "execute_result"
    }
   ],
   "source": [
    "## Query for certain landslides:::::\n",
    "nasa_satimage_log.iloc[:,0:16].query(\"event_id == @request_event\")\n",
    "\n",
    "# Using a list\n",
    "# list_id=[10521,11239,11454,11540,13710,14445]\n",
    "# nasa_satimage_log.iloc[:,0:12].query(\"event_id in @list_id\")"
   ]
  },
  {
   "cell_type": "markdown",
   "id": "dd2c0fdd-3f0d-47ac-b23b-78ac74603f2f",
   "metadata": {},
   "source": [
    "<hr style=\"border:6px solid darkred\">"
   ]
  },
  {
   "cell_type": "markdown",
   "id": "7f889545-0829-44dc-8917-8d87ba0ecc00",
   "metadata": {},
   "source": [
    "<hr style=\"border:6px solid darkred\">"
   ]
  },
  {
   "cell_type": "code",
   "execution_count": null,
   "id": "178ff8c9-aad2-4f17-99e6-433e56b9a5b6",
   "metadata": {},
   "outputs": [],
   "source": [
    "## Query for certain landslides:::::\n",
    "nasa_satimage_log.iloc[:,0:16].query(\"event_title == 'Heavy Rains Set Off Deadly Landslides in Venezuela' \")"
   ]
  }
 ],
 "metadata": {
  "kernelspec": {
   "display_name": "Python 3 (ipykernel)",
   "language": "python",
   "name": "python3"
  },
  "language_info": {
   "codemirror_mode": {
    "name": "ipython",
    "version": 3
   },
   "file_extension": ".py",
   "mimetype": "text/x-python",
   "name": "python",
   "nbconvert_exporter": "python",
   "pygments_lexer": "ipython3",
   "version": "3.11.4"
  }
 },
 "nbformat": 4,
 "nbformat_minor": 5
}
